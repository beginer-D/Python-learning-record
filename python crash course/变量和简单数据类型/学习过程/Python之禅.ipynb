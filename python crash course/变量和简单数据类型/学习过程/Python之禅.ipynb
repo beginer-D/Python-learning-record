{
 "cells": [
  {
   "cell_type": "markdown",
   "id": "bd69eda5-de7e-4249-88ff-030de588ab7c",
   "metadata": {},
   "source": [
    "### 使用Python编写编程的理念"
   ]
  },
  {
   "cell_type": "code",
   "execution_count": 1,
   "id": "e1d3bcb6-97a4-4d6d-b182-525e7c0e916c",
   "metadata": {
    "ExecuteTime": {
     "end_time": "2025-02-10T08:58:39.313434Z",
     "start_time": "2025-02-10T08:58:39.306790Z"
    }
   },
   "outputs": [
    {
     "name": "stdout",
     "output_type": "stream",
     "text": [
      "The Zen of Python, by Tim Peters\n",
      "\n",
      "Beautiful is better than ugly.\n",
      "Explicit is better than implicit.\n",
      "Simple is better than complex.\n",
      "Complex is better than complicated.\n",
      "Flat is better than nested.\n",
      "Sparse is better than dense.\n",
      "Readability counts.\n",
      "Special cases aren't special enough to break the rules.\n",
      "Although practicality beats purity.\n",
      "Errors should never pass silently.\n",
      "Unless explicitly silenced.\n",
      "In the face of ambiguity, refuse the temptation to guess.\n",
      "There should be one-- and preferably only one --obvious way to do it.\n",
      "Although that way may not be obvious at first unless you're Dutch.\n",
      "Now is better than never.\n",
      "Although never is often better than *right* now.\n",
      "If the implementation is hard to explain, it's a bad idea.\n",
      "If the implementation is easy to explain, it may be a good idea.\n",
      "Namespaces are one honking great idea -- let's do more of those!\n"
     ]
    }
   ],
   "source": [
    "import this"
   ]
  },
  {
   "cell_type": "markdown",
   "id": "2b313954-5a1b-44be-b82b-81ad7d566626",
   "metadata": {},
   "source": [
    "自动检测\n",
    "中文（简体）\n",
    "《Python 之禅》，作者蒂姆・彼得斯\n",
    "\n",
    "* 优美胜于丑陋。\n",
    "* 显式胜于隐式。\n",
    "* 简单胜于复杂。\n",
    "* 复杂胜于繁琐。\n",
    "* 扁平结构胜于嵌套结构。\n",
    "* 稀疏胜于紧密。\n",
    "* 可读性很重要。\n",
    "* 特殊情况不足以特殊到打破规则。\n",
    "* 虽然实用性胜过纯粹性。\n",
    "* 错误绝不能默默地放过。\n",
    "* 除非明确地进行了抑制。\n",
    "* 面对模棱两可的情况，拒绝猜测的诱惑。\n",
    "* 应该有一种 —— 最好只有一种 —— 显而易见的方法来做这件事。\n",
    "* 虽然那种方法一开始可能并不明显，除非你是荷兰人。\n",
    "* 现在做总比不做强。\n",
    "* 虽然有时候永远不做往往比 “立刻” 去做要好。\n",
    "* 如果实现难以解释，那它不是个好主意。\n",
    "* 如果实现容易解释，那它可能是个好主意。\n",
    "* 命名空间是一个非常棒的主意 —— 让我们多做一些这样的事情！\n"
   ]
  }
 ],
 "metadata": {
  "kernelspec": {
   "display_name": "Python 3 (ipykernel)",
   "language": "python",
   "name": "python3"
  },
  "language_info": {
   "codemirror_mode": {
    "name": "ipython",
    "version": 3
   },
   "file_extension": ".py",
   "mimetype": "text/x-python",
   "name": "python",
   "nbconvert_exporter": "python",
   "pygments_lexer": "ipython3",
   "version": "3.13.2"
  }
 },
 "nbformat": 4,
 "nbformat_minor": 5
}
