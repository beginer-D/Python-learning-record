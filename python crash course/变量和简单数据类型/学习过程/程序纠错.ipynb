{
 "cells": [
  {
   "cell_type": "markdown",
   "id": "396eba3ac144ffaa",
   "metadata": {},
   "source": [
    "有意写错变量名 程序会报出traceback\n",
    "* line 2 表示错误在第几行\n",
    "* 箭头所指向就是列出了这行错误\n",
    "* nameerror 表示错误的描述"
   ]
  },
  {
   "cell_type": "code",
   "execution_count": 6,
   "id": "30750b3630a5cadb",
   "metadata": {
    "ExecuteTime": {
     "end_time": "2025-02-10T06:49:21.480228Z",
     "start_time": "2025-02-10T06:49:21.468057Z"
    }
   },
   "outputs": [
    {
     "ename": "NameError",
     "evalue": "name 'mesage' is not defined",
     "output_type": "error",
     "traceback": [
      "\u001b[1;31m---------------------------------------------------------------------------\u001b[0m",
      "\u001b[1;31mNameError\u001b[0m                                 Traceback (most recent call last)",
      "Cell \u001b[1;32mIn[6], line 2\u001b[0m\n\u001b[0;32m      1\u001b[0m message \u001b[38;5;241m=\u001b[39m \u001b[38;5;124m\"\u001b[39m\u001b[38;5;124mhello world\u001b[39m\u001b[38;5;124m\"\u001b[39m\n\u001b[1;32m----> 2\u001b[0m \u001b[38;5;28mprint\u001b[39m(\u001b[43mmesage\u001b[49m)\n",
      "\u001b[1;31mNameError\u001b[0m: name 'mesage' is not defined"
     ]
    }
   ],
   "source": [
    "message = \"hello world\"\n",
    "print(mesage)"
   ]
  },
  {
   "cell_type": "markdown",
   "id": "868dc033ce898d6",
   "metadata": {},
   "source": [
    "### 动手试一试"
   ]
  },
  {
   "cell_type": "code",
   "execution_count": 1,
   "id": "6e70a1fd-336b-4d12-9d30-e29531a080bb",
   "metadata": {},
   "outputs": [],
   "source": [
    "simple_message = \"love mom\""
   ]
  },
  {
   "cell_type": "code",
   "execution_count": 2,
   "id": "736671a3-b807-4229-ba9a-35a07c266e98",
   "metadata": {},
   "outputs": [],
   "source": [
    "simple_message = 'love dad'"
   ]
  }
 ],
 "metadata": {
  "kernelspec": {
   "display_name": "Python 3 (ipykernel)",
   "language": "python",
   "name": "python3"
  },
  "language_info": {
   "codemirror_mode": {
    "name": "ipython",
    "version": 3
   },
   "file_extension": ".py",
   "mimetype": "text/x-python",
   "name": "python",
   "nbconvert_exporter": "python",
   "pygments_lexer": "ipython3",
   "version": "3.13.2"
  }
 },
 "nbformat": 4,
 "nbformat_minor": 5
}
