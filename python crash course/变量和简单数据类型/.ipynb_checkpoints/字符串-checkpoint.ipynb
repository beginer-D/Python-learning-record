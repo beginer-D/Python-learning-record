{
 "cells": [
  {
   "cell_type": "markdown",
   "id": "7bf842f8-f186-48cb-a802-728c6af5ec92",
   "metadata": {},
   "source": [
    "定义：字符串就是一系列字符，用引号引起的都是字符串，其中的引号可以是单引号也可以是双引号，这种灵活性可以在字符串中包换引号"
   ]
  },
  {
   "cell_type": "code",
   "execution_count": 1,
   "id": "ece2d412-d48c-431e-bc4a-95f02b337d91",
   "metadata": {},
   "outputs": [
    {
     "name": "stdout",
     "output_type": "stream",
     "text": [
      "i told my firend,\"python is my favorite language \"\n"
     ]
    }
   ],
   "source": [
    "print('i told my firend,\"python is my favorite language \"')"
   ]
  },
  {
   "cell_type": "code",
   "execution_count": 2,
   "id": "5965193e-f54b-4f61-8417-ea76e3ef4133",
   "metadata": {},
   "outputs": [
    {
     "name": "stdout",
     "output_type": "stream",
     "text": [
      "the langauage 'Python is named after Monty Python,not the snake'\n"
     ]
    }
   ],
   "source": [
    "print(\"the langauage 'Python is named after Monty Python,not the snake'\")"
   ]
  },
  {
   "cell_type": "markdown",
   "id": "3789978d-c52a-4f96-81b8-b31d8f0a29df",
   "metadata": {},
   "source": [
    "## 使用方法修改字符串的大小写"
   ]
  },
  {
   "cell_type": "markdown",
   "id": "2158414f-22c1-450c-830d-5dfcc32d6f35",
   "metadata": {},
   "source": [
    ".title()方法可以以首字母大写的方式显示每个单词"
   ]
  },
  {
   "cell_type": "code",
   "execution_count": 5,
   "id": "aa804230-6e3f-45f9-a466-d30cf964377d",
   "metadata": {},
   "outputs": [
    {
     "name": "stdout",
     "output_type": "stream",
     "text": [
      "Ada Lovelace\n"
     ]
    }
   ],
   "source": [
    "name = \"ada lovelace\"\n",
    "print (name.title())"
   ]
  },
  {
   "cell_type": "markdown",
   "id": "e9a4a815-ce00-4c66-8bd8-6ea64031b895",
   "metadata": {},
   "source": [
    "将字符串改成全部大写或全部小写"
   ]
  },
  {
   "cell_type": "code",
   "execution_count": 6,
   "id": "2588cccb-e50d-4e2b-a7bf-1ab9fbf0778b",
   "metadata": {},
   "outputs": [
    {
     "name": "stdout",
     "output_type": "stream",
     "text": [
      "ADA LOVELACE\n",
      "ada lovelace\n"
     ]
    }
   ],
   "source": [
    "print(name.upper())\n",
    "print(name.lower())"
   ]
  },
  {
   "cell_type": "markdown",
   "id": "2aa89f60-dfa8-4603-ab78-af81d5f57567",
   "metadata": {},
   "source": [
    "## 合并字符串"
   ]
  },
  {
   "cell_type": "code",
   "execution_count": 10,
   "id": "74aa9eca-63e1-4c3a-a961-f362fb7be68d",
   "metadata": {},
   "outputs": [
    {
     "name": "stdout",
     "output_type": "stream",
     "text": [
      "Hello,ada lovelace!\n"
     ]
    }
   ],
   "source": [
    "first_name = \"ada\"\n",
    "last_name = \"lovelace\"\n",
    "full_name = first_name +\" \"+last_name \n",
    "print (\"Hello,\"+full_name+\"!\")"
   ]
  },
  {
   "cell_type": "markdown",
   "id": "82eace51-fd11-4c37-b94a-e25db28d8374",
   "metadata": {},
   "source": [
    "也可以将整句话存入一个变量中"
   ]
  },
  {
   "cell_type": "code",
   "execution_count": 11,
   "id": "444c6d6f-9b88-4dc0-9ee6-bcb51c3681f8",
   "metadata": {},
   "outputs": [
    {
     "name": "stdout",
     "output_type": "stream",
     "text": [
      "Hello,ada lovelace!\n"
     ]
    }
   ],
   "source": [
    "message = \"Hello,\"+full_name+\"!\"\n",
    "print(message)"
   ]
  },
  {
   "cell_type": "markdown",
   "id": "78a98689-f62d-4ef2-af43-355809f03f53",
   "metadata": {},
   "source": [
    "## 使用制表符或换行符来添加空白"
   ]
  },
  {
   "cell_type": "code",
   "execution_count": 12,
   "id": "dec0c82a-fde7-40e4-8e60-94d09da81c0f",
   "metadata": {},
   "outputs": [
    {
     "name": "stdout",
     "output_type": "stream",
     "text": [
      "pythonw\n"
     ]
    }
   ],
   "source": [
    "print('pythonw')"
   ]
  },
  {
   "cell_type": "markdown",
   "id": "66c0454e-7431-417d-a9f0-e58366f0c6e9",
   "metadata": {},
   "source": [
    "\\t表示制表，会自动对齐下一啊很"
   ]
  },
  {
   "cell_type": "code",
   "execution_count": 17,
   "id": "102a7012-8d58-42c9-9581-ad0b34c8bbc5",
   "metadata": {},
   "outputs": [
    {
     "name": "stdout",
     "output_type": "stream",
     "text": [
      "\tpython not snake\n"
     ]
    }
   ],
   "source": [
    "print('\\tpython not snake')"
   ]
  },
  {
   "cell_type": "markdown",
   "id": "29d9ac06-fc51-44a8-b5f5-bff90e911773",
   "metadata": {},
   "source": [
    "\\n表示换行"
   ]
  },
  {
   "cell_type": "code",
   "execution_count": 18,
   "id": "4dc2d63c-3d51-45bf-9b2c-20008317eafd",
   "metadata": {},
   "outputs": [
    {
     "name": "stdout",
     "output_type": "stream",
     "text": [
      "Languages:\n",
      "Python\n",
      " C\n",
      "JavaScript\n"
     ]
    }
   ],
   "source": [
    "print(\"Languages:\\nPython\\n C\\nJavaScript\")"
   ]
  },
  {
   "cell_type": "markdown",
   "id": "c08c044f-fd73-4251-8487-ea749db700fc",
   "metadata": {},
   "source": [
    "## 删除空白"
   ]
  },
  {
   "cell_type": "markdown",
   "id": "bd49f439-1715-4b21-85b5-53179d989cf4",
   "metadata": {},
   "source": [
    "'python '和'python'对于计算机来说，是两个不同的字符串，当我们比较两个字符串是否相同时，空格会令系统迷惑，所以我们要删除空白\n",
    "下面介绍rstrip()方法"
   ]
  },
  {
   "cell_type": "code",
   "execution_count": 45,
   "id": "9c25419a-daea-4dc0-97c3-396648dc70c6",
   "metadata": {},
   "outputs": [
    {
     "data": {
      "text/plain": [
       "' python'"
      ]
     },
     "execution_count": 45,
     "metadata": {},
     "output_type": "execute_result"
    }
   ],
   "source": [
    "language = ' python '\n",
    "language\n",
    "language.rstrip()"
   ]
  },
  {
   "cell_type": "code",
   "execution_count": 46,
   "id": "a635d422-7bd7-403b-a773-2d4f97079478",
   "metadata": {},
   "outputs": [
    {
     "data": {
      "text/plain": [
       "' python '"
      ]
     },
     "execution_count": 46,
     "metadata": {},
     "output_type": "execute_result"
    }
   ],
   "source": [
    "language"
   ]
  },
  {
   "cell_type": "markdown",
   "id": "08e779a6-379f-4753-a530-9eba1cec215f",
   "metadata": {},
   "source": [
    "可以发现，使用了rstrip方法的字符串末尾没有了空格,但这种方法只是暂时的，除非你删除空格后重新赋给变量"
   ]
  },
  {
   "cell_type": "code",
   "execution_count": 47,
   "id": "4a3d9248-b39a-4d98-8809-7fd2aeefce4f",
   "metadata": {},
   "outputs": [
    {
     "data": {
      "text/plain": [
       "' python'"
      ]
     },
     "execution_count": 47,
     "metadata": {},
     "output_type": "execute_result"
    }
   ],
   "source": [
    "language = language.rstrip()\n",
    "language"
   ]
  },
  {
   "cell_type": "markdown",
   "id": "6f9f137d-74ad-4af5-adcf-ae5b884fc6b9",
   "metadata": {},
   "source": [
    "lstrip()方法可以删除开头的空格"
   ]
  },
  {
   "cell_type": "code",
   "execution_count": 48,
   "id": "8faf9b0b-96cb-4435-affa-8bb049f27ca8",
   "metadata": {},
   "outputs": [
    {
     "data": {
      "text/plain": [
       "'python'"
      ]
     },
     "execution_count": 48,
     "metadata": {},
     "output_type": "execute_result"
    }
   ],
   "source": [
    "language.lstrip()"
   ]
  },
  {
   "cell_type": "markdown",
   "id": "5a276713-3d63-4fa7-b5f9-acb3569277c9",
   "metadata": {},
   "source": [
    "strip()方法可以删除两端的空格"
   ]
  },
  {
   "cell_type": "code",
   "execution_count": 49,
   "id": "9c939d58-2fbe-43c2-9423-4687b116ffdb",
   "metadata": {},
   "outputs": [
    {
     "data": {
      "text/plain": [
       "'python'"
      ]
     },
     "execution_count": 49,
     "metadata": {},
     "output_type": "execute_result"
    }
   ],
   "source": [
    "language = ' python '\n",
    "language.strip()"
   ]
  },
  {
   "cell_type": "markdown",
   "id": "98624d58-fbab-4a10-9f78-4322d15e95e0",
   "metadata": {},
   "source": [
    "## 动手试一试"
   ]
  },
  {
   "cell_type": "markdown",
   "id": "3ba2caf6-d84d-4c45-8fe4-0db3b14e67bf",
   "metadata": {},
   "source": [
    "#### 2-3"
   ]
  },
  {
   "cell_type": "code",
   "execution_count": 34,
   "id": "659b73ea-c280-442b-9c5e-ce18f090e88f",
   "metadata": {},
   "outputs": [
    {
     "name": "stdout",
     "output_type": "stream",
     "text": [
      "Hello jack, would you like to learn some Python today？\n"
     ]
    }
   ],
   "source": [
    "user = 'jack'\n",
    "print('Hello '+ user+', would you like to learn some Python today？')"
   ]
  },
  {
   "cell_type": "markdown",
   "id": "01548686-db46-4404-9296-6c88c86096f5",
   "metadata": {},
   "source": [
    "#### 2-4"
   ]
  },
  {
   "cell_type": "code",
   "execution_count": 40,
   "id": "3652d488-aa76-4588-9d84-5e0c616c7ea1",
   "metadata": {},
   "outputs": [
    {
     "name": "stdout",
     "output_type": "stream",
     "text": [
      "John\n",
      "JOHN\n",
      "john\n"
     ]
    }
   ],
   "source": [
    "name = 'john'\n",
    "print(name.title())\n",
    "print(name.upper())\n",
    "print(name.lower())"
   ]
  },
  {
   "cell_type": "markdown",
   "id": "313badce-9926-41d7-848d-f2d62b53b6f3",
   "metadata": {},
   "source": [
    "#### 2-5"
   ]
  },
  {
   "cell_type": "code",
   "execution_count": 41,
   "id": "e94747a3-5bdf-473f-8e5d-a537fc26afc4",
   "metadata": {},
   "outputs": [
    {
     "name": "stdout",
     "output_type": "stream",
     "text": [
      "Albert Einstein once said,\"A Person who never made a mistake never tried anything new\"\n"
     ]
    }
   ],
   "source": [
    "print('once said,\"A Person who never made a mistake never tried anything new\"')"
   ]
  },
  {
   "cell_type": "code",
   "execution_count": 43,
   "id": "6fa673cb-f59e-4fc0-bb11-7420df77b5a3",
   "metadata": {},
   "outputs": [
    {
     "name": "stdout",
     "output_type": "stream",
     "text": [
      "Albert Einsteinonce said,\"A Person who never made a mistake never tried anything new\"\n"
     ]
    }
   ],
   "source": [
    "famous_person = 'Albert Einstein'\n",
    "message = 'once said,\"A Person who never made a mistake never tried anything new\"'\n",
    "print(famous_person + message)"
   ]
  },
  {
   "cell_type": "markdown",
   "id": "aa022af0-7f1a-4c77-bc90-2cc02564e30b",
   "metadata": {},
   "source": [
    "#### 2-7"
   ]
  },
  {
   "cell_type": "code",
   "execution_count": 75,
   "id": "c0cf5997-ed79-4036-ad4f-bd3ce43a0a8c",
   "metadata": {},
   "outputs": [
    {
     "name": "stdout",
     "output_type": "stream",
     "text": [
      "\t  jack   \n",
      "\t\n"
     ]
    }
   ],
   "source": [
    "name = '\\t  jack   \\n\\t'\n",
    "print(name)"
   ]
  },
  {
   "cell_type": "code",
   "execution_count": 83,
   "id": "4488c3f7-2ed0-494f-b1bf-1ed920559dc1",
   "metadata": {},
   "outputs": [
    {
     "name": "stdout",
     "output_type": "stream",
     "text": [
      "jack   \n",
      "\t\n"
     ]
    }
   ],
   "source": [
    "print(name.lstrip())"
   ]
  },
  {
   "cell_type": "code",
   "execution_count": 82,
   "id": "d61baa2b-7f08-4edf-8230-3f9629c9a00e",
   "metadata": {},
   "outputs": [
    {
     "name": "stdout",
     "output_type": "stream",
     "text": [
      "\t  jack\n"
     ]
    }
   ],
   "source": [
    "print(name.rstrip())"
   ]
  },
  {
   "cell_type": "code",
   "execution_count": 81,
   "id": "1013f183-240b-4b1c-b6da-e6a6f0275c22",
   "metadata": {},
   "outputs": [
    {
     "name": "stdout",
     "output_type": "stream",
     "text": [
      "jack\n"
     ]
    }
   ],
   "source": [
    "print(name.strip())"
   ]
  }
 ],
 "metadata": {
  "kernelspec": {
   "display_name": "Python 3 (ipykernel)",
   "language": "python",
   "name": "python3"
  },
  "language_info": {
   "codemirror_mode": {
    "name": "ipython",
    "version": 3
   },
   "file_extension": ".py",
   "mimetype": "text/x-python",
   "name": "python",
   "nbconvert_exporter": "python",
   "pygments_lexer": "ipython3",
   "version": "3.13.2"
  }
 },
 "nbformat": 4,
 "nbformat_minor": 5
}
