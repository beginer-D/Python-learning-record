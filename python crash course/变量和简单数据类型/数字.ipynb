{
 "cells": [
  {
   "cell_type": "markdown",
   "id": "1ee1f699-af72-4a48-9391-081faf9e65ed",
   "metadata": {},
   "source": [
    "### 整数"
   ]
  },
  {
   "cell_type": "code",
   "id": "18eea187-758c-45d9-8bb3-0def3539aa31",
   "metadata": {
    "ExecuteTime": {
     "end_time": "2025-02-10T08:42:18.184858Z",
     "start_time": "2025-02-10T08:42:18.177324Z"
    }
   },
   "source": [
    "2+3"
   ],
   "outputs": [
    {
     "data": {
      "text/plain": [
       "5"
      ]
     },
     "execution_count": 1,
     "metadata": {},
     "output_type": "execute_result"
    }
   ],
   "execution_count": 1
  },
  {
   "cell_type": "code",
   "id": "d1708de9-57bf-4743-846f-58c70530233c",
   "metadata": {
    "ExecuteTime": {
     "end_time": "2025-02-10T08:42:18.319389Z",
     "start_time": "2025-02-10T08:42:18.314785Z"
    }
   },
   "source": [
    "3-2"
   ],
   "outputs": [
    {
     "data": {
      "text/plain": [
       "1"
      ]
     },
     "execution_count": 2,
     "metadata": {},
     "output_type": "execute_result"
    }
   ],
   "execution_count": 2
  },
  {
   "cell_type": "code",
   "id": "5b4b7d59-8c6a-4d0a-b3be-7133749c8564",
   "metadata": {
    "ExecuteTime": {
     "end_time": "2025-02-10T08:42:18.331805Z",
     "start_time": "2025-02-10T08:42:18.327405Z"
    }
   },
   "source": [
    "2*8"
   ],
   "outputs": [
    {
     "data": {
      "text/plain": [
       "16"
      ]
     },
     "execution_count": 3,
     "metadata": {},
     "output_type": "execute_result"
    }
   ],
   "execution_count": 3
  },
  {
   "cell_type": "code",
   "id": "93ec10ea-8045-4f37-a675-19c1daf95f94",
   "metadata": {
    "ExecuteTime": {
     "end_time": "2025-02-10T08:42:18.417670Z",
     "start_time": "2025-02-10T08:42:18.411065Z"
    }
   },
   "source": [
    "3/2"
   ],
   "outputs": [
    {
     "data": {
      "text/plain": [
       "1.5"
      ]
     },
     "execution_count": 4,
     "metadata": {},
     "output_type": "execute_result"
    }
   ],
   "execution_count": 4
  },
  {
   "cell_type": "markdown",
   "id": "6e98c7ff-4776-4032-ae35-5aa69057b61c",
   "metadata": {},
   "source": [
    "Python使用两个乘号表示乘方运算"
   ]
  },
  {
   "cell_type": "code",
   "id": "5256e86b-575f-49a6-85b7-236f40bac9d6",
   "metadata": {
    "ExecuteTime": {
     "end_time": "2025-02-10T08:42:18.461667Z",
     "start_time": "2025-02-10T08:42:18.456769Z"
    }
   },
   "source": [
    "3**2"
   ],
   "outputs": [
    {
     "data": {
      "text/plain": [
       "9"
      ]
     },
     "execution_count": 5,
     "metadata": {},
     "output_type": "execute_result"
    }
   ],
   "execution_count": 5
  },
  {
   "cell_type": "code",
   "id": "458f79f5-0a08-4283-acbe-feb2ff1cf2e6",
   "metadata": {
    "ExecuteTime": {
     "end_time": "2025-02-10T08:42:18.525520Z",
     "start_time": "2025-02-10T08:42:18.520313Z"
    }
   },
   "source": [
    "3*3"
   ],
   "outputs": [
    {
     "data": {
      "text/plain": [
       "9"
      ]
     },
     "execution_count": 6,
     "metadata": {},
     "output_type": "execute_result"
    }
   ],
   "execution_count": 6
  },
  {
   "cell_type": "code",
   "id": "255096b5-491b-4c4d-b771-2089f1940573",
   "metadata": {
    "ExecuteTime": {
     "end_time": "2025-02-10T08:42:18.556255Z",
     "start_time": "2025-02-10T08:42:18.551473Z"
    }
   },
   "source": [
    "10**6"
   ],
   "outputs": [
    {
     "data": {
      "text/plain": [
       "1000000"
      ]
     },
     "execution_count": 7,
     "metadata": {},
     "output_type": "execute_result"
    }
   ],
   "execution_count": 7
  },
  {
   "cell_type": "code",
   "id": "f6cb152d-9512-4695-9d91-d5483805cf57",
   "metadata": {
    "ExecuteTime": {
     "end_time": "2025-02-10T08:42:18.580209Z",
     "start_time": "2025-02-10T08:42:18.575835Z"
    }
   },
   "source": [
    "2+ 3*4"
   ],
   "outputs": [
    {
     "data": {
      "text/plain": [
       "14"
      ]
     },
     "execution_count": 8,
     "metadata": {},
     "output_type": "execute_result"
    }
   ],
   "execution_count": 8
  },
  {
   "cell_type": "code",
   "id": "31094208-c61f-4e9a-b307-5c3a8f6626d3",
   "metadata": {
    "ExecuteTime": {
     "end_time": "2025-02-10T08:42:18.618974Z",
     "start_time": "2025-02-10T08:42:18.613701Z"
    }
   },
   "source": [
    "(2+3)*4"
   ],
   "outputs": [
    {
     "data": {
      "text/plain": [
       "20"
      ]
     },
     "execution_count": 9,
     "metadata": {},
     "output_type": "execute_result"
    }
   ],
   "execution_count": 9
  },
  {
   "cell_type": "markdown",
   "id": "36edba0d-c3bf-47e9-8fcc-3a9295cd54d5",
   "metadata": {},
   "source": [
    "### 浮点数"
   ]
  },
  {
   "cell_type": "markdown",
   "id": "29709cff-7ea4-4a3a-a730-43d22211b63b",
   "metadata": {},
   "source": [
    "有时候浮点数运算结果的小数位数是不确定的"
   ]
  },
  {
   "cell_type": "code",
   "id": "cca6bf44-f75f-4536-a207-c129875eeb55",
   "metadata": {
    "ExecuteTime": {
     "end_time": "2025-02-10T08:42:18.640061Z",
     "start_time": "2025-02-10T08:42:18.635799Z"
    }
   },
   "source": [
    "0.2 + 0.1"
   ],
   "outputs": [
    {
     "data": {
      "text/plain": [
       "0.30000000000000004"
      ]
     },
     "execution_count": 10,
     "metadata": {},
     "output_type": "execute_result"
    }
   ],
   "execution_count": 10
  },
  {
   "cell_type": "code",
   "id": "30fe3ba5-d645-47f1-968e-3105830422fe",
   "metadata": {
    "ExecuteTime": {
     "end_time": "2025-02-10T08:42:18.687291Z",
     "start_time": "2025-02-10T08:42:18.683150Z"
    }
   },
   "source": [
    "3*0.1"
   ],
   "outputs": [
    {
     "data": {
      "text/plain": [
       "0.30000000000000004"
      ]
     },
     "execution_count": 11,
     "metadata": {},
     "output_type": "execute_result"
    }
   ],
   "execution_count": 11
  },
  {
   "cell_type": "markdown",
   "id": "ae26e255-b7ab-4fa2-9b42-93bbf18123a6",
   "metadata": {},
   "source": [
    "使用函数str()避免类型错误,错误之处在于python并不知道age是属于int 还是字符，所以要使用str()转换"
   ]
  },
  {
   "cell_type": "code",
   "id": "31748f4e-bac8-4f38-9dd7-7cd117f709eb",
   "metadata": {
    "ExecuteTime": {
     "end_time": "2025-02-10T08:42:19.000884Z",
     "start_time": "2025-02-10T08:42:18.705851Z"
    }
   },
   "source": [
    "age = 23\n",
    "message = \"Happpy \" + age + \"rd Birthday!\"\n",
    "print(message)"
   ],
   "outputs": [
    {
     "ename": "TypeError",
     "evalue": "can only concatenate str (not \"int\") to str",
     "output_type": "error",
     "traceback": [
      "\u001B[1;31m---------------------------------------------------------------------------\u001B[0m",
      "\u001B[1;31mTypeError\u001B[0m                                 Traceback (most recent call last)",
      "Cell \u001B[1;32mIn[12], line 2\u001B[0m\n\u001B[0;32m      1\u001B[0m age \u001B[38;5;241m=\u001B[39m \u001B[38;5;241m23\u001B[39m\n\u001B[1;32m----> 2\u001B[0m message \u001B[38;5;241m=\u001B[39m \u001B[38;5;124;43m\"\u001B[39;49m\u001B[38;5;124;43mHapppy \u001B[39;49m\u001B[38;5;124;43m\"\u001B[39;49m\u001B[43m \u001B[49m\u001B[38;5;241;43m+\u001B[39;49m\u001B[43m \u001B[49m\u001B[43mage\u001B[49m \u001B[38;5;241m+\u001B[39m \u001B[38;5;124m\"\u001B[39m\u001B[38;5;124mrd Birthday!\u001B[39m\u001B[38;5;124m\"\u001B[39m\n\u001B[0;32m      3\u001B[0m \u001B[38;5;28mprint\u001B[39m(message)\n",
      "\u001B[1;31mTypeError\u001B[0m: can only concatenate str (not \"int\") to str"
     ]
    }
   ],
   "execution_count": 12
  },
  {
   "cell_type": "code",
   "execution_count": 18,
   "id": "6c5cc813-7e82-49ca-8893-94d6540f0b55",
   "metadata": {},
   "outputs": [
    {
     "name": "stdout",
     "output_type": "stream",
     "text": [
      "Happpy 23rd Birthday!\n"
     ]
    }
   ],
   "source": [
    "age = 23\n",
    "message = \"Happpy \" + str(age) + \"rd Birthday!\"\n",
    "print(message)"
   ]
  },
  {
   "cell_type": "markdown",
   "id": "8794579c-309f-484b-948d-e35e6524fdec",
   "metadata": {},
   "source": [
    "## 动手试一试"
   ]
  },
  {
   "cell_type": "markdown",
   "id": "877a506a-ae14-43de-8a1f-73ff294ddaca",
   "metadata": {},
   "source": [
    "#### 2-8"
   ]
  },
  {
   "cell_type": "code",
   "execution_count": 32,
   "id": "5a3884c9-1f82-40db-be5c-514d19567d15",
   "metadata": {},
   "outputs": [
    {
     "name": "stdout",
     "output_type": "stream",
     "text": [
      "8\n",
      "8\n",
      "8\n",
      "8.0\n"
     ]
    }
   ],
   "source": [
    "print(2+6)\n",
    "print(9-1)\n",
    "print(2*4)\n",
    "print(16/2)"
   ]
  },
  {
   "cell_type": "markdown",
   "id": "e07e3d83-553e-4965-91ec-b49761a6c207",
   "metadata": {},
   "source": [
    "#### 2-9"
   ]
  },
  {
   "cell_type": "code",
   "execution_count": 35,
   "id": "3d5b4313-41dd-4aac-ab7b-96481fda695d",
   "metadata": {},
   "outputs": [
    {
     "name": "stdout",
     "output_type": "stream",
     "text": [
      "my favorite number is 4\n"
     ]
    }
   ],
   "source": [
    "number = 4\n",
    "message = 'my favorite number is ' + str(number)\n",
    "print(message)"
   ]
  }
 ],
 "metadata": {
  "kernelspec": {
   "display_name": "Python 3 (ipykernel)",
   "language": "python",
   "name": "python3"
  },
  "language_info": {
   "codemirror_mode": {
    "name": "ipython",
    "version": 3
   },
   "file_extension": ".py",
   "mimetype": "text/x-python",
   "name": "python",
   "nbconvert_exporter": "python",
   "pygments_lexer": "ipython3",
   "version": "3.13.2"
  }
 },
 "nbformat": 4,
 "nbformat_minor": 5
}
