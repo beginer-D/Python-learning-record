{
 "cells": [
  {
   "cell_type": "markdown",
   "id": "f6b53de1-2b63-4714-82e6-968163613bff",
   "metadata": {},
   "source": [
    "### 3.2.1修改列表元素"
   ]
  },
  {
   "cell_type": "code",
   "id": "45b3eb43-38fc-432f-a869-d0db4fc39e11",
   "metadata": {
    "ExecuteTime": {
     "end_time": "2025-02-11T13:59:19.904669Z",
     "start_time": "2025-02-11T13:59:19.899415Z"
    }
   },
   "source": [
    "motorcycles = ['honda','yamaha','suzuki']\n",
    "print(motorcycles)"
   ],
   "outputs": [
    {
     "name": "stdout",
     "output_type": "stream",
     "text": [
      "['honda', 'yamaha', 'suzuki']\n"
     ]
    }
   ],
   "execution_count": 1
  },
  {
   "cell_type": "code",
   "id": "b30a51c6-12b5-403f-9301-fdfe5c0ce00b",
   "metadata": {
    "ExecuteTime": {
     "end_time": "2025-02-11T13:59:19.916891Z",
     "start_time": "2025-02-11T13:59:19.912409Z"
    }
   },
   "source": [
    "motorcycles[0] = 'ducati'\n",
    "print(motorcycles)"
   ],
   "outputs": [
    {
     "name": "stdout",
     "output_type": "stream",
     "text": [
      "['ducati', 'yamaha', 'suzuki']\n"
     ]
    }
   ],
   "execution_count": 2
  },
  {
   "cell_type": "markdown",
   "id": "bce3a2a9-ff36-4ae5-b6c7-2c245ce48845",
   "metadata": {},
   "source": [
    "### 3.2.2 添加元素"
   ]
  },
  {
   "cell_type": "code",
   "id": "0d89665d-8a93-446d-9d44-f335ece2598b",
   "metadata": {
    "ExecuteTime": {
     "end_time": "2025-02-11T13:59:20.089088Z",
     "start_time": "2025-02-11T13:59:20.083388Z"
    }
   },
   "source": [
    "motorcycles = ['honda','yamaha','suzuki']\n",
    "print(motorcycles)"
   ],
   "outputs": [
    {
     "name": "stdout",
     "output_type": "stream",
     "text": [
      "['honda', 'yamaha', 'suzuki']\n"
     ]
    }
   ],
   "execution_count": 3
  },
  {
   "cell_type": "markdown",
   "id": "86b10e96-7f72-4bf7-9cf5-ffdc27c92e27",
   "metadata": {},
   "source": [
    "1. append()方法可以在列表末尾追加元素"
   ]
  },
  {
   "cell_type": "code",
   "id": "87b83b9a-7daf-4d91-bcef-4e1eadc955c7",
   "metadata": {
    "ExecuteTime": {
     "end_time": "2025-02-11T13:59:20.130106Z",
     "start_time": "2025-02-11T13:59:20.125506Z"
    }
   },
   "source": [
    "motorcycles.append('ducati')\n",
    "print(motorcycles)"
   ],
   "outputs": [
    {
     "name": "stdout",
     "output_type": "stream",
     "text": [
      "['honda', 'yamaha', 'suzuki', 'ducati']\n"
     ]
    }
   ],
   "execution_count": 4
  },
  {
   "cell_type": "markdown",
   "id": "6ba1e12d-4515-4ab1-af83-7abfb97a66e2",
   "metadata": {},
   "source": [
    "经常会先创建一个空列表，再根据需要按顺序存进去。"
   ]
  },
  {
   "cell_type": "code",
   "id": "f81fb8cd-b4f2-4d09-ba8c-e983972cd58e",
   "metadata": {
    "ExecuteTime": {
     "end_time": "2025-02-11T13:59:20.180715Z",
     "start_time": "2025-02-11T13:59:20.176048Z"
    }
   },
   "source": [
    "motorcycles = []\n",
    "motorcycles.append('honda')\n",
    "motorcycles.append('yamaha')\n",
    "motorcycles.append('suzuki')\n",
    "print(motorcycles)"
   ],
   "outputs": [
    {
     "name": "stdout",
     "output_type": "stream",
     "text": [
      "['honda', 'yamaha', 'suzuki']\n"
     ]
    }
   ],
   "execution_count": 5
  },
  {
   "cell_type": "markdown",
   "id": "33d76862-f56c-462a-a1c1-71e646fec8c2",
   "metadata": {},
   "source": [
    "2. insert()在列表中插入元素,第一个参数是插入位置的索引，第二个参数是插入的元素"
   ]
  },
  {
   "cell_type": "code",
   "id": "90242ecc-b405-4ba9-a7e9-1c9bf62a1f7f",
   "metadata": {
    "ExecuteTime": {
     "end_time": "2025-02-11T13:59:20.216628Z",
     "start_time": "2025-02-11T13:59:20.212979Z"
    }
   },
   "source": [
    "motorcycles = ['honda','yamaha','suzuki']\n",
    "print(motorcycles)"
   ],
   "outputs": [
    {
     "name": "stdout",
     "output_type": "stream",
     "text": [
      "['honda', 'yamaha', 'suzuki']\n"
     ]
    }
   ],
   "execution_count": 6
  },
  {
   "cell_type": "code",
   "id": "d6bd8fa7-bea8-46c6-9180-6b5be0b56458",
   "metadata": {
    "ExecuteTime": {
     "end_time": "2025-02-11T13:59:20.236146Z",
     "start_time": "2025-02-11T13:59:20.232158Z"
    }
   },
   "source": [
    "motorcycles.insert(0,'ducati')\n",
    "print(motorcycles)"
   ],
   "outputs": [
    {
     "name": "stdout",
     "output_type": "stream",
     "text": [
      "['ducati', 'honda', 'yamaha', 'suzuki']\n"
     ]
    }
   ],
   "execution_count": 7
  },
  {
   "cell_type": "markdown",
   "id": "d9309865-487b-4ad0-a22f-fe9bec0b49cb",
   "metadata": {},
   "source": [
    "对于append()方法是在列表末尾插入元素，insert()方法是在任何位置插入元素，那有没有在开头位置插入元素的方法呢\n",
    "\n",
    "于是我去了解了一下，发现还有一个双端队列的数据结构"
   ]
  },
  {
   "cell_type": "code",
   "id": "15ac6906-fbcd-457f-91c4-4c4ef0b82d45",
   "metadata": {
    "ExecuteTime": {
     "end_time": "2025-02-11T13:59:20.275111Z",
     "start_time": "2025-02-11T13:59:20.270544Z"
    }
   },
   "source": [
    "from collections import deque\n",
    "deque_motorcycles = deque(['honda','yamaha','suzuki'])\n",
    "deque_motorcycles.appendleft('ducati')\n",
    "print(deque_motorcycles)"
   ],
   "outputs": [
    {
     "name": "stdout",
     "output_type": "stream",
     "text": [
      "deque(['ducati', 'honda', 'yamaha', 'suzuki'])\n"
     ]
    }
   ],
   "execution_count": 8
  },
  {
   "cell_type": "markdown",
   "id": "f8da1b5b-46a9-45c6-8ff0-c6f481082af5",
   "metadata": {},
   "source": [
    "## 3.2.3 从列表中删除元素\n",
    "**根据位置删除元素**\n",
    "1. 如果知道位置，使用del语句进行删除\n",
    "2. del可以删除任何位置的元素，删除后无法访问\n",
    "3. 注意，删除一个元素后，后面元素的索引跟着减一"
   ]
  },
  {
   "cell_type": "code",
   "id": "18485250-7ebf-46f1-9c9d-dd4d655a45ca",
   "metadata": {
    "ExecuteTime": {
     "end_time": "2025-02-11T13:59:20.317274Z",
     "start_time": "2025-02-11T13:59:20.312526Z"
    }
   },
   "source": [
    "motorcycles = ['honda','yamaha','suzuki']\n",
    "print(motorcycles)"
   ],
   "outputs": [
    {
     "name": "stdout",
     "output_type": "stream",
     "text": [
      "['honda', 'yamaha', 'suzuki']\n"
     ]
    }
   ],
   "execution_count": 9
  },
  {
   "cell_type": "code",
   "id": "5678ed74-051e-49ca-9288-d8067776f5f4",
   "metadata": {
    "ExecuteTime": {
     "end_time": "2025-02-11T13:59:20.359267Z",
     "start_time": "2025-02-11T13:59:20.355323Z"
    }
   },
   "source": [
    "del motorcycles[0]\n",
    "print(motorcycles)"
   ],
   "outputs": [
    {
     "name": "stdout",
     "output_type": "stream",
     "text": [
      "['yamaha', 'suzuki']\n"
     ]
    }
   ],
   "execution_count": 10
  },
  {
   "cell_type": "markdown",
   "id": "ddecd218-a2fc-4c6a-8c8f-96928710f67e",
   "metadata": {},
   "source": [
    "pop()方法删除元素，需要注意的是，不传入任何参数时，pop()删除的是末尾元素,**删除后可以接着使用元素**\n",
    "\n",
    "这就是pop-弹出的含义"
   ]
  },
  {
   "cell_type": "code",
   "id": "1324835c-1bb7-47d3-8d18-ac7159a77479",
   "metadata": {
    "ExecuteTime": {
     "end_time": "2025-02-11T13:59:20.389998Z",
     "start_time": "2025-02-11T13:59:20.385256Z"
    }
   },
   "source": [
    "motorcycles = ['honda','yamaha','suzuki']\n",
    "print(motorcycles)\n",
    "poped_motorcycles = motorcycles.pop()\n",
    "print(poped_motorcycles)\n",
    "print(motorcycles)"
   ],
   "outputs": [
    {
     "name": "stdout",
     "output_type": "stream",
     "text": [
      "['honda', 'yamaha', 'suzuki']\n",
      "suzuki\n",
      "['honda', 'yamaha']\n"
     ]
    }
   ],
   "execution_count": 11
  },
  {
   "cell_type": "markdown",
   "id": "beebfae1-e0b1-45bb-853f-1c2056f9dcbc",
   "metadata": {},
   "source": [
    "接着使用这个元素"
   ]
  },
  {
   "cell_type": "code",
   "id": "4ee64bd1-8978-41c4-bafa-a38544d96174",
   "metadata": {
    "ExecuteTime": {
     "end_time": "2025-02-11T13:59:20.428241Z",
     "start_time": "2025-02-11T13:59:20.423729Z"
    }
   },
   "source": [
    "motorcycles = ['honda','yamaha','suzuki']\n",
    "last_owned = motorcycles.pop()\n",
    "print('我最新购买的摩托车是'+last_owned)"
   ],
   "outputs": [
    {
     "name": "stdout",
     "output_type": "stream",
     "text": [
      "我最新购买的摩托车是suzuki\n"
     ]
    }
   ],
   "execution_count": 12
  },
  {
   "cell_type": "markdown",
   "id": "65cac326-56be-4fdc-bc85-774effaf46ed",
   "metadata": {},
   "source": [
    "类似的，我们可以传入元素的位置使用pop()删除元素"
   ]
  },
  {
   "cell_type": "code",
   "id": "116ed50e-502d-4dce-b96c-ff17ce4e4e75",
   "metadata": {
    "ExecuteTime": {
     "end_time": "2025-02-11T13:59:20.490264Z",
     "start_time": "2025-02-11T13:59:20.485865Z"
    }
   },
   "source": [
    "motorcycles = ['honda','yamaha','suzuki']\n",
    "first_owned = motorcycles.pop(0)\n",
    "print('我第一款购买的摩托车是'+first_owned)"
   ],
   "outputs": [
    {
     "name": "stdout",
     "output_type": "stream",
     "text": [
      "我第一款购买的摩托车是honda\n"
     ]
    }
   ],
   "execution_count": 13
  },
  {
   "cell_type": "markdown",
   "id": "ceb6fe71-1373-4cad-bff0-cee1a0c5b2e1",
   "metadata": {},
   "source": [
    "**根据值删除元素**\n",
    "\n",
    "1. remove()方法既可以根据值删除元素，也可接着使用其值\n",
    "2. 需要注意的是，需要先将其值存在变量中，再将变量传入remove()方法\n",
    "3. 其值仍保留在变量中可以使用\n",
    "4. 不能使用remove()方法返回的值，因为返回的None，如下"
   ]
  },
  {
   "cell_type": "code",
   "id": "9696d159-6053-4fc3-a13b-0d966bb19bf3",
   "metadata": {
    "ExecuteTime": {
     "end_time": "2025-02-11T13:59:20.521141Z",
     "start_time": "2025-02-11T13:59:20.515983Z"
    }
   },
   "source": [
    "motorcycles = ['honda','yamaha','suzuki']\n",
    "print(motorcycles)\n",
    "dont_want = motorcycles.remove('yamaha')\n",
    "print(motorcycles)\n",
    "print(dont_want)"
   ],
   "outputs": [
    {
     "name": "stdout",
     "output_type": "stream",
     "text": [
      "['honda', 'yamaha', 'suzuki']\n",
      "['honda', 'suzuki']\n",
      "None\n"
     ]
    }
   ],
   "execution_count": 14
  },
  {
   "cell_type": "code",
   "id": "222e947d-b909-4925-83c8-f263414fec66",
   "metadata": {
    "ExecuteTime": {
     "end_time": "2025-02-11T13:59:20.899314Z",
     "start_time": "2025-02-11T13:59:20.547668Z"
    }
   },
   "source": [
    "print(\"我不想要的摩托车是\"+dont_want)"
   ],
   "outputs": [
    {
     "ename": "TypeError",
     "evalue": "can only concatenate str (not \"NoneType\") to str",
     "output_type": "error",
     "traceback": [
      "\u001B[1;31m---------------------------------------------------------------------------\u001B[0m",
      "\u001B[1;31mTypeError\u001B[0m                                 Traceback (most recent call last)",
      "Cell \u001B[1;32mIn[15], line 1\u001B[0m\n\u001B[1;32m----> 1\u001B[0m \u001B[38;5;28mprint\u001B[39m(\u001B[38;5;124;43m\"\u001B[39;49m\u001B[38;5;124;43m我不想要的摩托车是\u001B[39;49m\u001B[38;5;124;43m\"\u001B[39;49m\u001B[38;5;241;43m+\u001B[39;49m\u001B[43mdont_want\u001B[49m)\n",
      "\u001B[1;31mTypeError\u001B[0m: can only concatenate str (not \"NoneType\") to str"
     ]
    }
   ],
   "execution_count": 15
  },
  {
   "cell_type": "code",
   "execution_count": 89,
   "id": "ca09728a-9889-4ee8-bf43-adc53a38c1cd",
   "metadata": {},
   "outputs": [
    {
     "name": "stdout",
     "output_type": "stream",
     "text": [
      "['honda', 'yamaha', 'suzuki']\n",
      "['honda', 'suzuki']\n",
      "我不想要的摩托车是Yamaha\n"
     ]
    }
   ],
   "source": [
    "motorcycles = ['honda','yamaha','suzuki']\n",
    "print(motorcycles)\n",
    "dont_want = 'yamaha'\n",
    "motorcycles.remove(dont_want)\n",
    "print(motorcycles)\n",
    "print(\"我不想要的摩托车是\" + dont_want.title())"
   ]
  },
  {
   "cell_type": "markdown",
   "id": "72200db2-a38d-475f-926c-6c767918bee3",
   "metadata": {},
   "source": [
    "## 动手试一试 "
   ]
  },
  {
   "cell_type": "markdown",
   "id": "f0bf129e-8ad0-4331-9598-9f12bf76e7b8",
   "metadata": {},
   "source": [
    "### 3-4 嘉宾名单"
   ]
  },
  {
   "cell_type": "code",
   "execution_count": 90,
   "id": "594f675e-5263-41cb-ad79-6c6edfa58bdd",
   "metadata": {},
   "outputs": [
    {
     "name": "stdout",
     "output_type": "stream",
     "text": [
      "xiaohong，饭好了，快来吃饭\n",
      "pengxu，饭好了，快来吃饭\n",
      "qunzhi，饭好了，快来吃饭\n",
      "qunzhi临时有点事情，来不了\n"
     ]
    }
   ],
   "source": [
    "dinner_list = ['xiaohong','pengxu','qunzhi']\n",
    "message = '，饭好了，快来吃饭'\n",
    "print(dinner_list[0]+message)\n",
    "print(dinner_list[1]+message)\n",
    "print(dinner_list[2]+message)\n",
    "print(dinner_list[-1]+'临时有点事情，来不了')"
   ]
  },
  {
   "cell_type": "code",
   "execution_count": 91,
   "id": "c661b715-b180-4288-b14d-facece472a2c",
   "metadata": {},
   "outputs": [
    {
     "name": "stdout",
     "output_type": "stream",
     "text": [
      "xiaohong，饭好了，快来吃饭\n",
      "pengxu，饭好了，快来吃饭\n",
      "fengning，饭好了，快来吃饭\n"
     ]
    }
   ],
   "source": [
    "dinner_list[-1] = 'fengning'\n",
    "print(dinner_list[0]+message)\n",
    "print(dinner_list[1]+message)\n",
    "print(dinner_list[2]+message)"
   ]
  },
  {
   "cell_type": "code",
   "execution_count": 92,
   "id": "1e1eee48-cf37-4dca-9c72-45a87381d3f5",
   "metadata": {},
   "outputs": [
    {
     "name": "stdout",
     "output_type": "stream",
     "text": [
      "要来的人更多了，搬一张更大的桌子吧\n",
      "来吃饭，dehua\n",
      "来吃饭，xiaohong\n",
      "来吃饭，pengxu\n",
      "来吃饭，fuhua\n",
      "来吃饭，fengning\n",
      "来吃饭，taotao\n"
     ]
    }
   ],
   "source": [
    "print(\"要来的人更多了，搬一张更大的桌子吧\")\n",
    "dinner_list.insert(0,'dehua')\n",
    "dinner_list.insert(3,'fuhua')\n",
    "dinner_list.append('taotao')\n",
    "print('来吃饭，'+ dinner_list[0])\n",
    "print('来吃饭，'+ dinner_list[1])\n",
    "print('来吃饭，'+ dinner_list[2])\n",
    "print('来吃饭，'+ dinner_list[3])\n",
    "print('来吃饭，'+ dinner_list[4])\n",
    "print('来吃饭，'+ dinner_list[5])"
   ]
  },
  {
   "cell_type": "code",
   "execution_count": 93,
   "id": "3e1b0c92-991e-4c7d-942d-32c4cae22d6a",
   "metadata": {},
   "outputs": [
    {
     "name": "stdout",
     "output_type": "stream",
     "text": [
      "有些人来不了了\n",
      "['dehua', 'xiaohong']\n"
     ]
    }
   ],
   "source": [
    "print('有些人来不了了')\n",
    "not_come1 = dinner_list.pop() \n",
    "not_come2 = dinner_list.pop()\n",
    "not_come3 = dinner_list.pop()\n",
    "not_come4 = dinner_list.pop()\n",
    "print(dinner_list)"
   ]
  },
  {
   "cell_type": "code",
   "execution_count": 94,
   "id": "9426a3de-b158-4d72-a59b-4467f7b092a7",
   "metadata": {},
   "outputs": [
    {
     "name": "stdout",
     "output_type": "stream",
     "text": [
      "抱歉taotao\n",
      "抱歉fengning\n",
      "抱歉fuhua\n",
      "抱歉pengxu\n"
     ]
    }
   ],
   "source": [
    "print('抱歉' +not_come1)\n",
    "print('抱歉' +not_come2)\n",
    "print('抱歉' +not_come3)\n",
    "print('抱歉' +not_come4)"
   ]
  },
  {
   "cell_type": "code",
   "execution_count": 95,
   "id": "685af3fc-2ef0-47af-9c06-320c59a4dacf",
   "metadata": {},
   "outputs": [
    {
     "name": "stdout",
     "output_type": "stream",
     "text": [
      "来吃dehua\n",
      "来吃xiaohong\n"
     ]
    }
   ],
   "source": [
    "print('来吃' + dinner_list[0])\n",
    "print('来吃' + dinner_list[1])"
   ]
  },
  {
   "cell_type": "code",
   "execution_count": 96,
   "id": "e362b5f3-29e0-426c-8583-ce5639b1d6f9",
   "metadata": {},
   "outputs": [
    {
     "name": "stdout",
     "output_type": "stream",
     "text": [
      "[]\n"
     ]
    }
   ],
   "source": [
    "del dinner_list[0]\n",
    "del dinner_list[0]\n",
    "print(dinner_list)"
   ]
  }
 ],
 "metadata": {
  "kernelspec": {
   "display_name": "Python 3 (ipykernel)",
   "language": "python",
   "name": "python3"
  },
  "language_info": {
   "codemirror_mode": {
    "name": "ipython",
    "version": 3
   },
   "file_extension": ".py",
   "mimetype": "text/x-python",
   "name": "python",
   "nbconvert_exporter": "python",
   "pygments_lexer": "ipython3",
   "version": "3.13.2"
  }
 },
 "nbformat": 4,
 "nbformat_minor": 5
}
