{
 "cells": [
  {
   "cell_type": "markdown",
   "id": "a70206e8-17a1-4969-aa72-4589ebaacfb3",
   "metadata": {
    "ExecuteTime": {
     "end_time": "2025-02-11T09:07:34.770371Z",
     "start_time": "2025-02-11T09:07:34.768481Z"
    },
    "collapsed": true,
    "jupyter": {
     "outputs_hidden": true
    }
   },
   "source": [
    "## 3.3.1 使用sort()方法对列表进行永久性排序"
   ]
  },
  {
   "cell_type": "markdown",
   "id": "e7bb1cb8-c099-4147-9606-37e3c0f6a004",
   "metadata": {},
   "source": [
    "### 按字母顺序排序"
   ]
  },
  {
   "cell_type": "code",
   "execution_count": 1,
   "id": "b7eef32ea88cd278",
   "metadata": {},
   "outputs": [
    {
     "name": "stdout",
     "output_type": "stream",
     "text": [
      "['audi', 'bmw', 'subaru', 'toyota']\n"
     ]
    }
   ],
   "source": [
    "cars = ['bmw','audi','toyota','subaru']\n",
    "cars.sort()\n",
    "print(cars)"
   ]
  },
  {
   "cell_type": "markdown",
   "id": "ac51c86d-e19b-48d0-b090-cd2403a3ec3a",
   "metadata": {},
   "source": [
    "### 按字母逆序排序"
   ]
  },
  {
   "cell_type": "code",
   "execution_count": 2,
   "id": "012426ee-b953-4c87-ad81-610092c1109d",
   "metadata": {},
   "outputs": [
    {
     "name": "stdout",
     "output_type": "stream",
     "text": [
      "['toyota', 'subaru', 'bmw', 'audi']\n"
     ]
    }
   ],
   "source": [
    "cars = ['bmw','audi','toyota','subaru']\n",
    "cars.sort(reverse=True)\n",
    "print(cars)"
   ]
  },
  {
   "cell_type": "markdown",
   "id": "dcb631c7-122a-45af-aba8-488140f89884",
   "metadata": {},
   "source": [
    "## 3.3.2 使用sorted()方法对列表进行暂时性排序\n"
   ]
  },
  {
   "cell_type": "code",
   "execution_count": 4,
   "id": "d7bf9cba-06e0-4e94-ae94-1b65e463cb5b",
   "metadata": {},
   "outputs": [
    {
     "name": "stdout",
     "output_type": "stream",
     "text": [
      "这是原始列表:\n",
      "['bmw', 'audi', 'toyota', 'subaru']\n"
     ]
    }
   ],
   "source": [
    "cars = ['bmw','audi','toyota','subaru']\n",
    "print('这是原始列表:')\n",
    "print(cars)"
   ]
  },
  {
   "cell_type": "code",
   "execution_count": 5,
   "id": "1447930a-2a4c-4712-9e2d-00f7bcfb7621",
   "metadata": {},
   "outputs": [
    {
     "name": "stdout",
     "output_type": "stream",
     "text": [
      "\n",
      "这是暂时排序的列表:\n",
      "['audi', 'bmw', 'subaru', 'toyota']\n"
     ]
    }
   ],
   "source": [
    "print('\\n这是暂时排序的列表:')\n",
    "print(sorted(cars))"
   ]
  },
  {
   "cell_type": "code",
   "execution_count": 6,
   "id": "5b5080f4-4b3a-49a9-b28d-cd3f07fea2d6",
   "metadata": {},
   "outputs": [
    {
     "name": "stdout",
     "output_type": "stream",
     "text": [
      "\n",
      "再次打印原始列表:\n",
      "['bmw', 'audi', 'toyota', 'subaru']\n"
     ]
    }
   ],
   "source": [
    "print('\\n再次打印原始列表:')\n",
    "print(cars)"
   ]
  },
  {
   "cell_type": "markdown",
   "id": "3faee18f-4eea-4994-b514-ea82948d634c",
   "metadata": {},
   "source": [
    "* 同样的，可以传入reverse=True参数\n",
    "* 需要注意的是：当含某些字母大写的元素时，排序更为复杂，多种决定决定排序顺序的方式"
   ]
  },
  {
   "cell_type": "markdown",
   "id": "9682436b-7090-4bc5-a6f1-5a76a234faf5",
   "metadata": {},
   "source": [
    "## 3.3.3 倒着打印列表"
   ]
  },
  {
   "cell_type": "markdown",
   "id": "0e18d506-767e-4da5-985c-fdc4a0a268d0",
   "metadata": {},
   "source": [
    "**注意：reverse()并不是按与字母顺序相反的顺序排序，而是反转**"
   ]
  },
  {
   "cell_type": "code",
   "execution_count": 7,
   "id": "d53139ca-38e2-4619-915f-1cd4b0efceef",
   "metadata": {},
   "outputs": [
    {
     "name": "stdout",
     "output_type": "stream",
     "text": [
      "['bmw', 'audi', 'toyota', 'subaru']\n"
     ]
    }
   ],
   "source": [
    "cars = ['bmw','audi','toyota','subaru']\n",
    "print(cars)"
   ]
  },
  {
   "cell_type": "code",
   "execution_count": 9,
   "id": "dfd75ba0-152c-4c98-aa71-3f722ec0497b",
   "metadata": {},
   "outputs": [
    {
     "name": "stdout",
     "output_type": "stream",
     "text": [
      "['subaru', 'toyota', 'audi', 'bmw']\n"
     ]
    }
   ],
   "source": [
    "cars.reverse()\n",
    "print(cars)"
   ]
  },
  {
   "cell_type": "markdown",
   "id": "06f0a52b-9ba4-430f-8dfc-406acde52686",
   "metadata": {},
   "source": [
    "reverse()方法永久的修改列表元素的排列顺序，但只需再次使用reverse()方法，就可以恢复原来排序"
   ]
  },
  {
   "cell_type": "markdown",
   "id": "33d602b9-fbe2-479f-b485-91dd42a1ae04",
   "metadata": {},
   "source": [
    "## 3.3.4 确定列表的长度"
   ]
  },
  {
   "cell_type": "markdown",
   "id": "46e737f8-4b23-4201-8b6e-b33fa9f4d5aa",
   "metadata": {},
   "source": [
    "使用len()方法确定列表长度"
   ]
  },
  {
   "cell_type": "code",
   "execution_count": 10,
   "id": "6869d0cb-1e99-4c83-92c1-f019a5699ca4",
   "metadata": {},
   "outputs": [
    {
     "data": {
      "text/plain": [
       "4"
      ]
     },
     "execution_count": 10,
     "metadata": {},
     "output_type": "execute_result"
    }
   ],
   "source": [
    "cars = ['bmw','audi','toyota','subaru']\n",
    "len(cars)"
   ]
  },
  {
   "cell_type": "markdown",
   "id": "ae0da777-e6df-4dc0-bd0c-179fe8ff4318",
   "metadata": {},
   "source": [
    "## 动手试一试"
   ]
  },
  {
   "cell_type": "markdown",
   "id": "f480b582-614c-4b32-be58-8ece3858bed6",
   "metadata": {},
   "source": [
    "#### 3-8 放眼世界"
   ]
  },
  {
   "cell_type": "code",
   "execution_count": 9,
   "id": "5bdabb4f-aa7e-423d-b17d-801396495dbf",
   "metadata": {
    "ExecuteTime": {
     "end_time": "2025-02-11T11:31:28.126289Z",
     "start_time": "2025-02-11T11:31:28.123692Z"
    }
   },
   "outputs": [
    {
     "name": "stdout",
     "output_type": "stream",
     "text": [
      "['青藏高原', '北极', '南极', '冰岛', '夏威夷']\n"
     ]
    }
   ],
   "source": [
    "to_place = ['青藏高原','北极','南极','冰岛','夏威夷']\n",
    "print(to_place)"
   ]
  },
  {
   "cell_type": "code",
   "execution_count": 10,
   "id": "f1c3470c3cfee4a2",
   "metadata": {},
   "outputs": [
    {
     "name": "stdout",
     "output_type": "stream",
     "text": [
      "['冰岛', '北极', '南极', '夏威夷', '青藏高原']\n",
      "['青藏高原', '北极', '南极', '冰岛', '夏威夷']\n"
     ]
    }
   ],
   "source": [
    "print(sorted(to_place))\n",
    "print(to_place)"
   ]
  },
  {
   "cell_type": "code",
   "execution_count": 11,
   "id": "145a34fc-da09-42a3-8e1a-9cf51f6845fc",
   "metadata": {},
   "outputs": [
    {
     "name": "stdout",
     "output_type": "stream",
     "text": [
      "['青藏高原', '夏威夷', '南极', '北极', '冰岛']\n",
      "['青藏高原', '北极', '南极', '冰岛', '夏威夷']\n"
     ]
    }
   ],
   "source": [
    "print(sorted(to_place,reverse=True))\n",
    "print(to_place)"
   ]
  },
  {
   "cell_type": "code",
   "execution_count": 12,
   "id": "785e02bf-a518-40f9-89b0-348222157982",
   "metadata": {},
   "outputs": [
    {
     "name": "stdout",
     "output_type": "stream",
     "text": [
      "['夏威夷', '冰岛', '南极', '北极', '青藏高原']\n"
     ]
    }
   ],
   "source": [
    "to_place.reverse()\n",
    "print(to_place)"
   ]
  },
  {
   "cell_type": "code",
   "execution_count": 13,
   "id": "d00f5151-c2b1-43a4-a189-050a8dc642e1",
   "metadata": {},
   "outputs": [
    {
     "name": "stdout",
     "output_type": "stream",
     "text": [
      "['青藏高原', '北极', '南极', '冰岛', '夏威夷']\n"
     ]
    }
   ],
   "source": [
    "to_place.reverse()\n",
    "print(to_place)"
   ]
  },
  {
   "cell_type": "code",
   "execution_count": 16,
   "id": "0c28e74c-d749-4831-bd5b-66c7f53e9e76",
   "metadata": {},
   "outputs": [
    {
     "name": "stdout",
     "output_type": "stream",
     "text": [
      "['冰岛', '北极', '南极', '夏威夷', '青藏高原']\n"
     ]
    }
   ],
   "source": [
    "to_place.sort()\n",
    "print(to_place)"
   ]
  },
  {
   "cell_type": "code",
   "execution_count": 17,
   "id": "d17dd5de-4eab-4141-afc0-e58ccdb60f74",
   "metadata": {},
   "outputs": [
    {
     "name": "stdout",
     "output_type": "stream",
     "text": [
      "['青藏高原', '夏威夷', '南极', '北极', '冰岛']\n"
     ]
    }
   ],
   "source": [
    "to_place.sort(reverse=True)\n",
    "print(to_place)"
   ]
  },
  {
   "cell_type": "markdown",
   "id": "a28d6910-32ce-48de-8f23-c1e640c0101a",
   "metadata": {},
   "source": [
    "#### 3-9 晚餐嘉宾"
   ]
  },
  {
   "cell_type": "code",
   "execution_count": 18,
   "id": "15c944da-ddd1-4993-b5f6-66024274449e",
   "metadata": {},
   "outputs": [
    {
     "name": "stdout",
     "output_type": "stream",
     "text": [
      "2\n"
     ]
    }
   ],
   "source": [
    "dinner_list = ['dehua','taotao']\n",
    "print(len(dinner_list))"
   ]
  },
  {
   "cell_type": "markdown",
   "id": "347f2fee-ddc4-43b9-a5b2-b410476ec5da",
   "metadata": {},
   "source": [
    "#### 3-10 尝试使用各个函数"
   ]
  },
  {
   "cell_type": "code",
   "execution_count": 19,
   "id": "9f30c01a-70d2-4c10-8675-33b125b564a2",
   "metadata": {},
   "outputs": [
    {
     "name": "stdout",
     "output_type": "stream",
     "text": [
      "['山枣', '桔子', '苹果', '香蕉', '龙眼']\n"
     ]
    }
   ],
   "source": [
    "my_list = ['苹果','香蕉','龙眼','桔子','山枣']\n",
    "my_list.sort()\n",
    "print(my_list)\n"
   ]
  },
  {
   "cell_type": "code",
   "execution_count": 20,
   "id": "6a83fff3-40ac-474c-9138-f20e8f2700fd",
   "metadata": {},
   "outputs": [
    {
     "name": "stdout",
     "output_type": "stream",
     "text": [
      "['山枣', '桔子', '龙眼', '香蕉', '苹果']\n"
     ]
    }
   ],
   "source": [
    "my_list = ['苹果','香蕉','龙眼','桔子','山枣']\n",
    "my_list.reverse()\n",
    "print(my_list)"
   ]
  },
  {
   "cell_type": "code",
   "execution_count": 21,
   "id": "402d9648-3e56-4004-a488-8cbb50ca4984",
   "metadata": {},
   "outputs": [
    {
     "data": {
      "text/plain": [
       "5"
      ]
     },
     "execution_count": 21,
     "metadata": {},
     "output_type": "execute_result"
    }
   ],
   "source": [
    "len(my_list)"
   ]
  },
  {
   "cell_type": "markdown",
   "id": "1b507daa-5e52-42e1-bbc9-633e7370a377",
   "metadata": {},
   "source": [
    "## 3.4 使用列表时避免索引错误"
   ]
  },
  {
   "cell_type": "code",
   "execution_count": 22,
   "id": "0204c353-57ed-4bf3-b214-723d75fdc4e4",
   "metadata": {},
   "outputs": [
    {
     "ename": "IndexError",
     "evalue": "list index out of range",
     "output_type": "error",
     "traceback": [
      "\u001b[1;31m---------------------------------------------------------------------------\u001b[0m",
      "\u001b[1;31mIndexError\u001b[0m                                Traceback (most recent call last)",
      "Cell \u001b[1;32mIn[22], line 2\u001b[0m\n\u001b[0;32m      1\u001b[0m my_list \u001b[38;5;241m=\u001b[39m [\u001b[38;5;124m'\u001b[39m\u001b[38;5;124m苹果\u001b[39m\u001b[38;5;124m'\u001b[39m,\u001b[38;5;124m'\u001b[39m\u001b[38;5;124m香蕉\u001b[39m\u001b[38;5;124m'\u001b[39m,\u001b[38;5;124m'\u001b[39m\u001b[38;5;124m龙眼\u001b[39m\u001b[38;5;124m'\u001b[39m,\u001b[38;5;124m'\u001b[39m\u001b[38;5;124m桔子\u001b[39m\u001b[38;5;124m'\u001b[39m,\u001b[38;5;124m'\u001b[39m\u001b[38;5;124m山枣\u001b[39m\u001b[38;5;124m'\u001b[39m]\n\u001b[1;32m----> 2\u001b[0m \u001b[43mmy_list\u001b[49m\u001b[43m[\u001b[49m\u001b[38;5;241;43m5\u001b[39;49m\u001b[43m]\u001b[49m\n",
      "\u001b[1;31mIndexError\u001b[0m: list index out of range"
     ]
    }
   ],
   "source": [
    "my_list = ['苹果','香蕉','龙眼','桔子','山枣']\n",
    "my_list[5]"
   ]
  },
  {
   "cell_type": "markdown",
   "id": "7da29903-d1d1-4f91-866d-0b8e65bf356f",
   "metadata": {},
   "source": [
    "如果需要访问后面的元素，可以使用负数，例如：-1访问末尾元素，只有当列表为空时，才会报错"
   ]
  },
  {
   "cell_type": "code",
   "execution_count": 23,
   "id": "684f826d-42ea-4cb5-9846-7e5767bcc594",
   "metadata": {},
   "outputs": [
    {
     "data": {
      "text/plain": [
       "'山枣'"
      ]
     },
     "execution_count": 23,
     "metadata": {},
     "output_type": "execute_result"
    }
   ],
   "source": [
    "my_list[-1]"
   ]
  },
  {
   "cell_type": "code",
   "execution_count": 24,
   "id": "c268f941-4ba2-456f-829f-d881fec8db3a",
   "metadata": {},
   "outputs": [
    {
     "ename": "IndexError",
     "evalue": "list index out of range",
     "output_type": "error",
     "traceback": [
      "\u001b[1;31m---------------------------------------------------------------------------\u001b[0m",
      "\u001b[1;31mIndexError\u001b[0m                                Traceback (most recent call last)",
      "Cell \u001b[1;32mIn[24], line 2\u001b[0m\n\u001b[0;32m      1\u001b[0m my_list \u001b[38;5;241m=\u001b[39m []\n\u001b[1;32m----> 2\u001b[0m \u001b[43mmy_list\u001b[49m\u001b[43m[\u001b[49m\u001b[38;5;241;43m-\u001b[39;49m\u001b[38;5;241;43m1\u001b[39;49m\u001b[43m]\u001b[49m\n",
      "\u001b[1;31mIndexError\u001b[0m: list index out of range"
     ]
    }
   ],
   "source": [
    "my_list = []\n",
    "my_list[-1]"
   ]
  }
 ],
 "metadata": {
  "kernelspec": {
   "display_name": "Python 3 (ipykernel)",
   "language": "python",
   "name": "python3"
  },
  "language_info": {
   "codemirror_mode": {
    "name": "ipython",
    "version": 3
   },
   "file_extension": ".py",
   "mimetype": "text/x-python",
   "name": "python",
   "nbconvert_exporter": "python",
   "pygments_lexer": "ipython3",
   "version": "3.13.2"
  }
 },
 "nbformat": 4,
 "nbformat_minor": 5
}
