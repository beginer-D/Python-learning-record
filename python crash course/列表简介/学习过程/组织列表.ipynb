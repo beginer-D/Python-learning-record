{
 "cells": [
  {
   "cell_type": "markdown",
   "id": "a70206e8-17a1-4969-aa72-4589ebaacfb3",
   "metadata": {
    "ExecuteTime": {
     "end_time": "2025-02-11T09:07:34.770371Z",
     "start_time": "2025-02-11T09:07:34.768481Z"
    },
    "collapsed": true,
    "jupyter": {
     "outputs_hidden": true
    }
   },
   "source": [
    "## 3.3.1 使用sort()方法对列表进行永久性排序"
   ]
  },
  {
   "cell_type": "markdown",
   "id": "e7bb1cb8-c099-4147-9606-37e3c0f6a004",
   "metadata": {},
   "source": [
    "### 按字母顺序排序"
   ]
  },
  {
   "cell_type": "code",
   "id": "b7eef32ea88cd278",
   "metadata": {
    "ExecuteTime": {
     "end_time": "2025-02-11T13:59:23.701613Z",
     "start_time": "2025-02-11T13:59:23.696662Z"
    }
   },
   "source": [
    "cars = ['bmw','audi','toyota','subaru']\n",
    "cars.sort()\n",
    "print(cars)"
   ],
   "outputs": [
    {
     "name": "stdout",
     "output_type": "stream",
     "text": [
      "['audi', 'bmw', 'subaru', 'toyota']\n"
     ]
    }
   ],
   "execution_count": 1
  },
  {
   "cell_type": "markdown",
   "id": "ac51c86d-e19b-48d0-b090-cd2403a3ec3a",
   "metadata": {},
   "source": [
    "### 按字母逆序排序"
   ]
  },
  {
   "cell_type": "code",
   "id": "012426ee-b953-4c87-ad81-610092c1109d",
   "metadata": {
    "ExecuteTime": {
     "end_time": "2025-02-11T13:59:23.712698Z",
     "start_time": "2025-02-11T13:59:23.708868Z"
    }
   },
   "source": [
    "cars = ['bmw','audi','toyota','subaru']\n",
    "cars.sort(reverse=True)\n",
    "print(cars)"
   ],
   "outputs": [
    {
     "name": "stdout",
     "output_type": "stream",
     "text": [
      "['toyota', 'subaru', 'bmw', 'audi']\n"
     ]
    }
   ],
   "execution_count": 2
  },
  {
   "cell_type": "markdown",
   "id": "dcb631c7-122a-45af-aba8-488140f89884",
   "metadata": {},
   "source": [
    "## 3.3.2 使用sorted()方法对列表进行暂时性排序\n"
   ]
  },
  {
   "cell_type": "code",
   "id": "d7bf9cba-06e0-4e94-ae94-1b65e463cb5b",
   "metadata": {
    "ExecuteTime": {
     "end_time": "2025-02-11T13:59:23.856545Z",
     "start_time": "2025-02-11T13:59:23.853293Z"
    }
   },
   "source": [
    "cars = ['bmw','audi','toyota','subaru']\n",
    "print('这是原始列表:')\n",
    "print(cars)"
   ],
   "outputs": [
    {
     "name": "stdout",
     "output_type": "stream",
     "text": [
      "这是原始列表:\n",
      "['bmw', 'audi', 'toyota', 'subaru']\n"
     ]
    }
   ],
   "execution_count": 3
  },
  {
   "cell_type": "code",
   "id": "1447930a-2a4c-4712-9e2d-00f7bcfb7621",
   "metadata": {
    "ExecuteTime": {
     "end_time": "2025-02-11T13:59:23.880249Z",
     "start_time": "2025-02-11T13:59:23.875086Z"
    }
   },
   "source": [
    "print('\\n这是暂时排序的列表:')\n",
    "print(sorted(cars))"
   ],
   "outputs": [
    {
     "name": "stdout",
     "output_type": "stream",
     "text": [
      "\n",
      "这是暂时排序的列表:\n",
      "['audi', 'bmw', 'subaru', 'toyota']\n"
     ]
    }
   ],
   "execution_count": 4
  },
  {
   "cell_type": "code",
   "id": "5b5080f4-4b3a-49a9-b28d-cd3f07fea2d6",
   "metadata": {
    "ExecuteTime": {
     "end_time": "2025-02-11T13:59:23.903180Z",
     "start_time": "2025-02-11T13:59:23.899302Z"
    }
   },
   "source": [
    "print('\\n再次打印原始列表:')\n",
    "print(cars)"
   ],
   "outputs": [
    {
     "name": "stdout",
     "output_type": "stream",
     "text": [
      "\n",
      "再次打印原始列表:\n",
      "['bmw', 'audi', 'toyota', 'subaru']\n"
     ]
    }
   ],
   "execution_count": 5
  },
  {
   "cell_type": "markdown",
   "id": "3faee18f-4eea-4994-b514-ea82948d634c",
   "metadata": {},
   "source": [
    "* 同样的，可以传入reverse=True参数\n",
    "* 需要注意的是：当含某些字母大写的元素时，排序更为复杂，多种决定决定排序顺序的方式"
   ]
  },
  {
   "cell_type": "markdown",
   "id": "9682436b-7090-4bc5-a6f1-5a76a234faf5",
   "metadata": {},
   "source": [
    "## 3.3.3 倒着打印列表"
   ]
  },
  {
   "cell_type": "markdown",
   "id": "0e18d506-767e-4da5-985c-fdc4a0a268d0",
   "metadata": {},
   "source": [
    "**注意：reverse()并不是按与字母顺序相反的顺序排序，而是反转**"
   ]
  },
  {
   "cell_type": "code",
   "id": "d53139ca-38e2-4619-915f-1cd4b0efceef",
   "metadata": {
    "ExecuteTime": {
     "end_time": "2025-02-11T13:59:23.929336Z",
     "start_time": "2025-02-11T13:59:23.925142Z"
    }
   },
   "source": [
    "cars = ['bmw','audi','toyota','subaru']\n",
    "print(cars)"
   ],
   "outputs": [
    {
     "name": "stdout",
     "output_type": "stream",
     "text": [
      "['bmw', 'audi', 'toyota', 'subaru']\n"
     ]
    }
   ],
   "execution_count": 6
  },
  {
   "cell_type": "code",
   "id": "dfd75ba0-152c-4c98-aa71-3f722ec0497b",
   "metadata": {
    "ExecuteTime": {
     "end_time": "2025-02-11T13:59:23.949159Z",
     "start_time": "2025-02-11T13:59:23.944542Z"
    }
   },
   "source": [
    "cars.reverse()\n",
    "print(cars)"
   ],
   "outputs": [
    {
     "name": "stdout",
     "output_type": "stream",
     "text": [
      "['subaru', 'toyota', 'audi', 'bmw']\n"
     ]
    }
   ],
   "execution_count": 7
  },
  {
   "cell_type": "markdown",
   "id": "06f0a52b-9ba4-430f-8dfc-406acde52686",
   "metadata": {},
   "source": [
    "reverse()方法永久的修改列表元素的排列顺序，但只需再次使用reverse()方法，就可以恢复原来排序"
   ]
  },
  {
   "cell_type": "markdown",
   "id": "33d602b9-fbe2-479f-b485-91dd42a1ae04",
   "metadata": {},
   "source": [
    "## 3.3.4 确定列表的长度"
   ]
  },
  {
   "cell_type": "markdown",
   "id": "46e737f8-4b23-4201-8b6e-b33fa9f4d5aa",
   "metadata": {},
   "source": [
    "使用len()方法确定列表长度"
   ]
  },
  {
   "cell_type": "code",
   "id": "6869d0cb-1e99-4c83-92c1-f019a5699ca4",
   "metadata": {
    "ExecuteTime": {
     "end_time": "2025-02-11T13:59:23.971680Z",
     "start_time": "2025-02-11T13:59:23.964247Z"
    }
   },
   "source": [
    "cars = ['bmw','audi','toyota','subaru']\n",
    "len(cars)"
   ],
   "outputs": [
    {
     "data": {
      "text/plain": [
       "4"
      ]
     },
     "execution_count": 8,
     "metadata": {},
     "output_type": "execute_result"
    }
   ],
   "execution_count": 8
  },
  {
   "cell_type": "markdown",
   "id": "ae0da777-e6df-4dc0-bd0c-179fe8ff4318",
   "metadata": {},
   "source": [
    "## 动手试一试"
   ]
  },
  {
   "cell_type": "markdown",
   "id": "f480b582-614c-4b32-be58-8ece3858bed6",
   "metadata": {},
   "source": [
    "#### 3-8 放眼世界"
   ]
  },
  {
   "cell_type": "code",
   "id": "5bdabb4f-aa7e-423d-b17d-801396495dbf",
   "metadata": {
    "ExecuteTime": {
     "end_time": "2025-02-11T13:59:23.991869Z",
     "start_time": "2025-02-11T13:59:23.988083Z"
    }
   },
   "source": [
    "to_place = ['青藏高原','北极','南极','冰岛','夏威夷']\n",
    "print(to_place)"
   ],
   "outputs": [
    {
     "name": "stdout",
     "output_type": "stream",
     "text": [
      "['青藏高原', '北极', '南极', '冰岛', '夏威夷']\n"
     ]
    }
   ],
   "execution_count": 9
  },
  {
   "cell_type": "code",
   "id": "f1c3470c3cfee4a2",
   "metadata": {
    "ExecuteTime": {
     "end_time": "2025-02-11T13:59:24.012353Z",
     "start_time": "2025-02-11T13:59:24.007642Z"
    }
   },
   "source": [
    "print(sorted(to_place))\n",
    "print(to_place)"
   ],
   "outputs": [
    {
     "name": "stdout",
     "output_type": "stream",
     "text": [
      "['冰岛', '北极', '南极', '夏威夷', '青藏高原']\n",
      "['青藏高原', '北极', '南极', '冰岛', '夏威夷']\n"
     ]
    }
   ],
   "execution_count": 10
  },
  {
   "cell_type": "code",
   "id": "145a34fc-da09-42a3-8e1a-9cf51f6845fc",
   "metadata": {
    "ExecuteTime": {
     "end_time": "2025-02-11T13:59:24.032148Z",
     "start_time": "2025-02-11T13:59:24.028131Z"
    }
   },
   "source": [
    "print(sorted(to_place,reverse=True))\n",
    "print(to_place)"
   ],
   "outputs": [
    {
     "name": "stdout",
     "output_type": "stream",
     "text": [
      "['青藏高原', '夏威夷', '南极', '北极', '冰岛']\n",
      "['青藏高原', '北极', '南极', '冰岛', '夏威夷']\n"
     ]
    }
   ],
   "execution_count": 11
  },
  {
   "cell_type": "code",
   "id": "785e02bf-a518-40f9-89b0-348222157982",
   "metadata": {
    "ExecuteTime": {
     "end_time": "2025-02-11T13:59:24.067972Z",
     "start_time": "2025-02-11T13:59:24.064619Z"
    }
   },
   "source": [
    "to_place.reverse()\n",
    "print(to_place)"
   ],
   "outputs": [
    {
     "name": "stdout",
     "output_type": "stream",
     "text": [
      "['夏威夷', '冰岛', '南极', '北极', '青藏高原']\n"
     ]
    }
   ],
   "execution_count": 12
  },
  {
   "cell_type": "code",
   "id": "d00f5151-c2b1-43a4-a189-050a8dc642e1",
   "metadata": {
    "ExecuteTime": {
     "end_time": "2025-02-11T13:59:24.083934Z",
     "start_time": "2025-02-11T13:59:24.080613Z"
    }
   },
   "source": [
    "to_place.reverse()\n",
    "print(to_place)"
   ],
   "outputs": [
    {
     "name": "stdout",
     "output_type": "stream",
     "text": [
      "['青藏高原', '北极', '南极', '冰岛', '夏威夷']\n"
     ]
    }
   ],
   "execution_count": 13
  },
  {
   "cell_type": "code",
   "id": "0c28e74c-d749-4831-bd5b-66c7f53e9e76",
   "metadata": {
    "ExecuteTime": {
     "end_time": "2025-02-11T13:59:24.098233Z",
     "start_time": "2025-02-11T13:59:24.094749Z"
    }
   },
   "source": [
    "to_place.sort()\n",
    "print(to_place)"
   ],
   "outputs": [
    {
     "name": "stdout",
     "output_type": "stream",
     "text": [
      "['冰岛', '北极', '南极', '夏威夷', '青藏高原']\n"
     ]
    }
   ],
   "execution_count": 14
  },
  {
   "cell_type": "code",
   "id": "d17dd5de-4eab-4141-afc0-e58ccdb60f74",
   "metadata": {
    "ExecuteTime": {
     "end_time": "2025-02-11T13:59:24.118266Z",
     "start_time": "2025-02-11T13:59:24.114319Z"
    }
   },
   "source": [
    "to_place.sort(reverse=True)\n",
    "print(to_place)"
   ],
   "outputs": [
    {
     "name": "stdout",
     "output_type": "stream",
     "text": [
      "['青藏高原', '夏威夷', '南极', '北极', '冰岛']\n"
     ]
    }
   ],
   "execution_count": 15
  },
  {
   "cell_type": "markdown",
   "id": "a28d6910-32ce-48de-8f23-c1e640c0101a",
   "metadata": {},
   "source": [
    "#### 3-9 晚餐嘉宾"
   ]
  },
  {
   "cell_type": "code",
   "id": "15c944da-ddd1-4993-b5f6-66024274449e",
   "metadata": {
    "ExecuteTime": {
     "end_time": "2025-02-11T13:59:24.137403Z",
     "start_time": "2025-02-11T13:59:24.133467Z"
    }
   },
   "source": [
    "dinner_list = ['dehua','taotao']\n",
    "print(len(dinner_list))"
   ],
   "outputs": [
    {
     "name": "stdout",
     "output_type": "stream",
     "text": [
      "2\n"
     ]
    }
   ],
   "execution_count": 16
  },
  {
   "cell_type": "markdown",
   "id": "347f2fee-ddc4-43b9-a5b2-b410476ec5da",
   "metadata": {},
   "source": [
    "#### 3-10 尝试使用各个函数"
   ]
  },
  {
   "cell_type": "code",
   "id": "9f30c01a-70d2-4c10-8675-33b125b564a2",
   "metadata": {
    "ExecuteTime": {
     "end_time": "2025-02-11T13:59:24.158994Z",
     "start_time": "2025-02-11T13:59:24.155351Z"
    }
   },
   "source": [
    "my_list = ['苹果','香蕉','龙眼','桔子','山枣']\n",
    "my_list.sort()\n",
    "print(my_list)\n"
   ],
   "outputs": [
    {
     "name": "stdout",
     "output_type": "stream",
     "text": [
      "['山枣', '桔子', '苹果', '香蕉', '龙眼']\n"
     ]
    }
   ],
   "execution_count": 17
  },
  {
   "cell_type": "code",
   "id": "6a83fff3-40ac-474c-9138-f20e8f2700fd",
   "metadata": {
    "ExecuteTime": {
     "end_time": "2025-02-11T13:59:24.176099Z",
     "start_time": "2025-02-11T13:59:24.172031Z"
    }
   },
   "source": [
    "my_list = ['苹果','香蕉','龙眼','桔子','山枣']\n",
    "my_list.reverse()\n",
    "print(my_list)"
   ],
   "outputs": [
    {
     "name": "stdout",
     "output_type": "stream",
     "text": [
      "['山枣', '桔子', '龙眼', '香蕉', '苹果']\n"
     ]
    }
   ],
   "execution_count": 18
  },
  {
   "cell_type": "code",
   "id": "402d9648-3e56-4004-a488-8cbb50ca4984",
   "metadata": {
    "ExecuteTime": {
     "end_time": "2025-02-11T13:59:24.203227Z",
     "start_time": "2025-02-11T13:59:24.198171Z"
    }
   },
   "source": [
    "len(my_list)"
   ],
   "outputs": [
    {
     "data": {
      "text/plain": [
       "5"
      ]
     },
     "execution_count": 19,
     "metadata": {},
     "output_type": "execute_result"
    }
   ],
   "execution_count": 19
  },
  {
   "cell_type": "markdown",
   "id": "1b507daa-5e52-42e1-bbc9-633e7370a377",
   "metadata": {},
   "source": [
    "## 3.4 使用列表时避免索引错误"
   ]
  },
  {
   "cell_type": "code",
   "id": "0204c353-57ed-4bf3-b214-723d75fdc4e4",
   "metadata": {
    "ExecuteTime": {
     "end_time": "2025-02-11T13:59:24.521839Z",
     "start_time": "2025-02-11T13:59:24.215754Z"
    }
   },
   "source": [
    "my_list = ['苹果','香蕉','龙眼','桔子','山枣']\n",
    "my_list[5]"
   ],
   "outputs": [
    {
     "ename": "IndexError",
     "evalue": "list index out of range",
     "output_type": "error",
     "traceback": [
      "\u001B[1;31m---------------------------------------------------------------------------\u001B[0m",
      "\u001B[1;31mIndexError\u001B[0m                                Traceback (most recent call last)",
      "Cell \u001B[1;32mIn[20], line 2\u001B[0m\n\u001B[0;32m      1\u001B[0m my_list \u001B[38;5;241m=\u001B[39m [\u001B[38;5;124m'\u001B[39m\u001B[38;5;124m苹果\u001B[39m\u001B[38;5;124m'\u001B[39m,\u001B[38;5;124m'\u001B[39m\u001B[38;5;124m香蕉\u001B[39m\u001B[38;5;124m'\u001B[39m,\u001B[38;5;124m'\u001B[39m\u001B[38;5;124m龙眼\u001B[39m\u001B[38;5;124m'\u001B[39m,\u001B[38;5;124m'\u001B[39m\u001B[38;5;124m桔子\u001B[39m\u001B[38;5;124m'\u001B[39m,\u001B[38;5;124m'\u001B[39m\u001B[38;5;124m山枣\u001B[39m\u001B[38;5;124m'\u001B[39m]\n\u001B[1;32m----> 2\u001B[0m \u001B[43mmy_list\u001B[49m\u001B[43m[\u001B[49m\u001B[38;5;241;43m5\u001B[39;49m\u001B[43m]\u001B[49m\n",
      "\u001B[1;31mIndexError\u001B[0m: list index out of range"
     ]
    }
   ],
   "execution_count": 20
  },
  {
   "cell_type": "markdown",
   "id": "7da29903-d1d1-4f91-866d-0b8e65bf356f",
   "metadata": {},
   "source": [
    "如果需要访问后面的元素，可以使用负数，例如：-1访问末尾元素，只有当列表为空时，才会报错"
   ]
  },
  {
   "cell_type": "code",
   "execution_count": 23,
   "id": "684f826d-42ea-4cb5-9846-7e5767bcc594",
   "metadata": {},
   "outputs": [
    {
     "data": {
      "text/plain": [
       "'山枣'"
      ]
     },
     "execution_count": 23,
     "metadata": {},
     "output_type": "execute_result"
    }
   ],
   "source": [
    "my_list[-1]"
   ]
  },
  {
   "cell_type": "code",
   "execution_count": 24,
   "id": "c268f941-4ba2-456f-829f-d881fec8db3a",
   "metadata": {},
   "outputs": [
    {
     "ename": "IndexError",
     "evalue": "list index out of range",
     "output_type": "error",
     "traceback": [
      "\u001B[1;31m---------------------------------------------------------------------------\u001B[0m",
      "\u001B[1;31mIndexError\u001B[0m                                Traceback (most recent call last)",
      "Cell \u001B[1;32mIn[24], line 2\u001B[0m\n\u001B[0;32m      1\u001B[0m my_list \u001B[38;5;241m=\u001B[39m []\n\u001B[1;32m----> 2\u001B[0m \u001B[43mmy_list\u001B[49m\u001B[43m[\u001B[49m\u001B[38;5;241;43m-\u001B[39;49m\u001B[38;5;241;43m1\u001B[39;49m\u001B[43m]\u001B[49m\n",
      "\u001B[1;31mIndexError\u001B[0m: list index out of range"
     ]
    }
   ],
   "source": [
    "my_list = []\n",
    "my_list[-1]"
   ]
  }
 ],
 "metadata": {
  "kernelspec": {
   "display_name": "Python 3 (ipykernel)",
   "language": "python",
   "name": "python3"
  },
  "language_info": {
   "codemirror_mode": {
    "name": "ipython",
    "version": 3
   },
   "file_extension": ".py",
   "mimetype": "text/x-python",
   "name": "python",
   "nbconvert_exporter": "python",
   "pygments_lexer": "ipython3",
   "version": "3.13.2"
  }
 },
 "nbformat": 4,
 "nbformat_minor": 5
}
