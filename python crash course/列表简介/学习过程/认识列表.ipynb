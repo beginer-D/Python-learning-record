{
 "cells": [
  {
   "cell_type": "markdown",
   "id": "7a94d3e9-982a-4003-9a6b-a93c7a234908",
   "metadata": {
    "ExecuteTime": {
     "end_time": "2025-02-11T03:57:42.959848Z",
     "start_time": "2025-02-11T03:57:42.957450Z"
    },
    "collapsed": true,
    "jupyter": {
     "outputs_hidden": true
    }
   },
   "source": [
    "## 3.1认识列表  \n",
    "1. 列表用[]表示\n",
    "2. 元素同类型"
   ]
  },
  {
   "cell_type": "code",
   "id": "eba7a72a-f568-4333-a16b-575fc1cb7649",
   "metadata": {
    "ExecuteTime": {
     "end_time": "2025-02-11T13:38:36.574031Z",
     "start_time": "2025-02-11T13:38:36.568980Z"
    }
   },
   "source": [
    "bicycles = ['trek','cannondale','redline','specialized']\n",
    "print(bicycles)"
   ],
   "outputs": [
    {
     "name": "stdout",
     "output_type": "stream",
     "text": [
      "['trek', 'cannondale', 'redline', 'specialized']\n"
     ]
    }
   ],
   "execution_count": 1
  },
  {
   "cell_type": "markdown",
   "id": "66ece293-1875-445b-9e0c-2a991578f3e9",
   "metadata": {},
   "source": [
    "### 打印会使列表本身的括号一起打印，下面学习如何访问元素\n",
    "1. 列表是有序集合，只需要把元素的位置传入列表就可以访问该元素"
   ]
  },
  {
   "cell_type": "code",
   "id": "caab6426-b5e8-4a4f-8a8f-705f286a435a",
   "metadata": {
    "ExecuteTime": {
     "end_time": "2025-02-11T13:38:36.600517Z",
     "start_time": "2025-02-11T13:38:36.596804Z"
    }
   },
   "source": [
    "print(bicycles[0])"
   ],
   "outputs": [
    {
     "name": "stdout",
     "output_type": "stream",
     "text": [
      "trek\n"
     ]
    }
   ],
   "execution_count": 2
  },
  {
   "cell_type": "markdown",
   "id": "d6538a75-5beb-4652-870a-58b61e6ac179",
   "metadata": {},
   "source": [
    "将前面学到的title方法应用到这里"
   ]
  },
  {
   "cell_type": "code",
   "id": "7979a72d-2149-47d6-abbb-1ec4eb8cb3f3",
   "metadata": {
    "ExecuteTime": {
     "end_time": "2025-02-11T13:38:36.761701Z",
     "start_time": "2025-02-11T13:38:36.757618Z"
    }
   },
   "source": [
    "print(bicycles[0].title())"
   ],
   "outputs": [
    {
     "name": "stdout",
     "output_type": "stream",
     "text": [
      "Trek\n"
     ]
    }
   ],
   "execution_count": 3
  },
  {
   "cell_type": "markdown",
   "id": "210ec592-7f95-4729-ac10-94a63599b896",
   "metadata": {},
   "source": [
    "## 3.1.2索引从0开始"
   ]
  },
  {
   "cell_type": "code",
   "id": "28115795-a37b-4c28-a169-9673d5858ea3",
   "metadata": {
    "ExecuteTime": {
     "end_time": "2025-02-11T13:38:36.789725Z",
     "start_time": "2025-02-11T13:38:36.785541Z"
    }
   },
   "source": [
    "print(bicycles[1])\n",
    "print(bicycles[3])"
   ],
   "outputs": [
    {
     "name": "stdout",
     "output_type": "stream",
     "text": [
      "cannondale\n",
      "specialized\n"
     ]
    }
   ],
   "execution_count": 4
  },
  {
   "cell_type": "markdown",
   "id": "8622232a-2c17-481b-86d8-2dbc60f4872f",
   "metadata": {},
   "source": [
    "可以使用负数从列表末尾开始访问元素\n",
    "1. -1访问倒数第一个元素\n",
    "2. -2访问倒数第二个元素\n",
    "3. 以此类推\n",
    "\n",
    "当我们不知道列表的长度可以访问最后的元素 "
   ]
  },
  {
   "cell_type": "code",
   "id": "ff5833ba-5c1e-4e00-b289-d0fd41e8b953",
   "metadata": {
    "ExecuteTime": {
     "end_time": "2025-02-11T13:38:36.873767Z",
     "start_time": "2025-02-11T13:38:36.870068Z"
    }
   },
   "source": [
    "print(bicycles[-1])"
   ],
   "outputs": [
    {
     "name": "stdout",
     "output_type": "stream",
     "text": [
      "specialized\n"
     ]
    }
   ],
   "execution_count": 5
  },
  {
   "cell_type": "markdown",
   "id": "7949fe97-6768-4f6f-914c-82aba3629e9b",
   "metadata": {},
   "source": [
    "## 3.1.3 使用列表的各个值"
   ]
  },
  {
   "cell_type": "code",
   "id": "af5b3411-24d6-4538-a244-da84b180f738",
   "metadata": {
    "ExecuteTime": {
     "end_time": "2025-02-11T13:38:36.919681Z",
     "start_time": "2025-02-11T13:38:36.914601Z"
    }
   },
   "source": [
    "message = \"my first bicycles was a \"+ bicycles[0].title()+\".\"\n",
    "print(message)"
   ],
   "outputs": [
    {
     "name": "stdout",
     "output_type": "stream",
     "text": [
      "my first bicycles was a Trek.\n"
     ]
    }
   ],
   "execution_count": 6
  },
  {
   "cell_type": "markdown",
   "id": "24cf40dd-40d5-4eb2-8cd4-2b117939efb4",
   "metadata": {},
   "source": [
    "## 动手试一试"
   ]
  },
  {
   "cell_type": "markdown",
   "id": "06d0a47e-9bcf-4e31-b2da-3af15a489421",
   "metadata": {},
   "source": [
    "#### 3-1 姓名"
   ]
  },
  {
   "cell_type": "code",
   "id": "5d38f8ed-dfa1-4f77-bcc9-eb40924b61c4",
   "metadata": {
    "ExecuteTime": {
     "end_time": "2025-02-11T13:38:36.938731Z",
     "start_time": "2025-02-11T13:38:36.934196Z"
    }
   },
   "source": [
    "names = ['Hongmao','Lantu','xiongda','xionger']\n",
    "print(names[0])\n",
    "print(names[-1])"
   ],
   "outputs": [
    {
     "name": "stdout",
     "output_type": "stream",
     "text": [
      "Hongmao\n",
      "xionger\n"
     ]
    }
   ],
   "execution_count": 7
  },
  {
   "cell_type": "code",
   "id": "157ccef9-7683-493f-86ae-8f6ed3adfc70",
   "metadata": {
    "ExecuteTime": {
     "end_time": "2025-02-11T13:38:36.960458Z",
     "start_time": "2025-02-11T13:38:36.956099Z"
    }
   },
   "source": [
    "message = '好久不见 '\n",
    "print(message+names[0])\n",
    "print(message+names[1])"
   ],
   "outputs": [
    {
     "name": "stdout",
     "output_type": "stream",
     "text": [
      "好久不见 Hongmao\n",
      "好久不见 Lantu\n"
     ]
    }
   ],
   "execution_count": 8
  },
  {
   "cell_type": "code",
   "id": "23955669-0b1f-4175-9019-df88540f0114",
   "metadata": {
    "ExecuteTime": {
     "end_time": "2025-02-11T13:38:36.979434Z",
     "start_time": "2025-02-11T13:38:36.975737Z"
    }
   },
   "source": [
    "ways = ['自行车','汽车']\n",
    "print('我想要一辆自己的'+ways[0])\n",
    "print('我想要早日拥有自己的'+ways[1])"
   ],
   "outputs": [
    {
     "name": "stdout",
     "output_type": "stream",
     "text": [
      "我想要一辆自己的自行车\n",
      "我想要早日拥有自己的汽车\n"
     ]
    }
   ],
   "execution_count": 9
  }
 ],
 "metadata": {
  "kernelspec": {
   "display_name": "Python 3 (ipykernel)",
   "language": "python",
   "name": "python3"
  },
  "language_info": {
   "codemirror_mode": {
    "name": "ipython",
    "version": 3
   },
   "file_extension": ".py",
   "mimetype": "text/x-python",
   "name": "python",
   "nbconvert_exporter": "python",
   "pygments_lexer": "ipython3",
   "version": "3.13.2"
  }
 },
 "nbformat": 4,
 "nbformat_minor": 5
}
