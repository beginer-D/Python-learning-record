{
 "cells": [
  {
   "cell_type": "markdown",
   "id": "ab86b201-3720-4b34-8176-21f302506ed0",
   "metadata": {
    "ExecuteTime": {
     "end_time": "2025-02-12T11:01:56.637010Z",
     "start_time": "2025-02-12T11:01:56.633855Z"
    },
    "collapsed": true,
    "jupyter": {
     "outputs_hidden": true
    }
   },
   "source": [
    "## 4.1 遍历整个列表\n",
    "* 需要遍历列表中的所以元素，对每个元素执行相同的操作，可能需要使用到for循环"
   ]
  },
  {
   "cell_type": "markdown",
   "id": "352d415f-9743-4006-afc5-59d6dc804209",
   "metadata": {},
   "source": [
    "理解为将列表中的每个元素取出再放进变量里"
   ]
  },
  {
   "cell_type": "code",
   "id": "14082d07334583c2",
   "metadata": {
    "ExecuteTime": {
     "end_time": "2025-02-12T11:31:39.251141Z",
     "start_time": "2025-02-12T11:31:39.246722Z"
    }
   },
   "source": [
    "magicians = ['alice','david','carolina']\n",
    "for magician in magicians:\n",
    "    print(magician)"
   ],
   "outputs": [
    {
     "name": "stdout",
     "output_type": "stream",
     "text": [
      "alice\n",
      "david\n",
      "carolina\n"
     ]
    }
   ],
   "execution_count": 33
  },
  {
   "cell_type": "markdown",
   "id": "18964eaa-4483-4f86-bfff-48099bbe1bc9",
   "metadata": {},
   "source": [
    "## 4.1.1 深入地研究循环"
   ]
  },
  {
   "cell_type": "markdown",
   "id": "554e3579-8e12-4bec-873d-116bdd20e1b3",
   "metadata": {},
   "source": [
    "用于存储列表中每个值的临时变量，可指定任何名称，描述单个列表元素有意义的名称大有帮助\n",
    "* for cat in cats:\n",
    "* for dog in dogs:\n",
    "    "
   ]
  },
  {
   "cell_type": "markdown",
   "id": "63a156d4-5940-41a9-a06b-65f8ac396fac",
   "metadata": {},
   "source": [
    "## 4.1.2 在for循环中执行更多的操作"
   ]
  },
  {
   "cell_type": "code",
   "id": "39ce8291-10e3-45f3-912b-e28c663c7c98",
   "metadata": {
    "ExecuteTime": {
     "end_time": "2025-02-12T11:31:39.359863Z",
     "start_time": "2025-02-12T11:31:39.346440Z"
    }
   },
   "source": [
    "magicians = ['alice','david','carolina']\n",
    "for magician in magicians:\n",
    "    print(magician.title()+\", 那是美妙的戏法\")\n",
    "    print(\"我期待你们的下一次表演,\"+ magician.title()+\"\\n\")"
   ],
   "outputs": [
    {
     "name": "stdout",
     "output_type": "stream",
     "text": [
      "Alice, 那是美妙的戏法\n",
      "我期待你们的下一次表演,Alice\n",
      "\n",
      "David, 那是美妙的戏法\n",
      "我期待你们的下一次表演,David\n",
      "\n",
      "Carolina, 那是美妙的戏法\n",
      "我期待你们的下一次表演,Carolina\n",
      "\n"
     ]
    }
   ],
   "execution_count": 34
  },
  {
   "cell_type": "markdown",
   "id": "7d2954c5-0356-4540-9c77-38e8f96b0dd7",
   "metadata": {},
   "source": [
    "## 4.1.3 在for循环结束后再执行一些操作"
   ]
  },
  {
   "cell_type": "code",
   "id": "23135739-a5a5-49a2-962e-839eece3a271",
   "metadata": {
    "ExecuteTime": {
     "end_time": "2025-02-12T11:31:39.501764Z",
     "start_time": "2025-02-12T11:31:39.486878Z"
    }
   },
   "source": [
    "magicians = ['alice','david','carolina']\n",
    "for magician in magicians:\n",
    "    print(magician.title()+\", 那是美妙的戏法\")\n",
    "    print(\"我期待你们的下一次表演,\"+ magician.title()+\"\\n\")\n",
    "print(\"感谢，那真是一场精彩的表演\")"
   ],
   "outputs": [
    {
     "name": "stdout",
     "output_type": "stream",
     "text": [
      "Alice, 那是美妙的戏法\n",
      "我期待你们的下一次表演,Alice\n",
      "\n",
      "David, 那是美妙的戏法\n",
      "我期待你们的下一次表演,David\n",
      "\n",
      "Carolina, 那是美妙的戏法\n",
      "我期待你们的下一次表演,Carolina\n",
      "\n",
      "感谢，那真是一场精彩的表演\n"
     ]
    }
   ],
   "execution_count": 35
  },
  {
   "cell_type": "markdown",
   "id": "72c9556e-83d2-45db-9ef4-aee24b615d60",
   "metadata": {},
   "source": [
    "## 4.2 避免缩进错误\n",
    "* Python是根据缩进来判断代码行与前一个代码行的关系"
   ]
  },
  {
   "cell_type": "markdown",
   "id": "50af97e8-fa94-417d-a692-b96219f90432",
   "metadata": {},
   "source": [
    "## 4.2.1 忘记缩进"
   ]
  },
  {
   "cell_type": "code",
   "id": "e4650e22-835b-4b1f-a7bb-d29b87bfd16c",
   "metadata": {
    "ExecuteTime": {
     "end_time": "2025-02-12T11:31:39.576986Z",
     "start_time": "2025-02-12T11:31:39.571189Z"
    }
   },
   "source": [
    "magicians = ['alice','david','carolina']\n",
    "for magician in magicians:\n",
    "print(magician.title()+\", 那是美妙的戏法\")"
   ],
   "outputs": [
    {
     "ename": "IndentationError",
     "evalue": "expected an indented block after 'for' statement on line 2 (4081888787.py, line 3)",
     "output_type": "error",
     "traceback": [
      "\u001B[1;36m  Cell \u001B[1;32mIn[36], line 3\u001B[1;36m\u001B[0m\n\u001B[1;33m    print(magician.title()+\", 那是美妙的戏法\")\u001B[0m\n\u001B[1;37m    ^\u001B[0m\n\u001B[1;31mIndentationError\u001B[0m\u001B[1;31m:\u001B[0m expected an indented block after 'for' statement on line 2\n"
     ]
    }
   ],
   "execution_count": 36
  },
  {
   "cell_type": "markdown",
   "id": "412edd0d-f3eb-4760-870b-662d631f5208",
   "metadata": {},
   "source": [
    "## 4.2.2 忘记缩进额外的代码行"
   ]
  },
  {
   "cell_type": "code",
   "id": "46e7f012-edfb-4e08-9fb4-030d7a4e3247",
   "metadata": {},
   "source": [
    "magicians = ['alice','david','carolina']\n",
    "for magician in magicians:\n",
    "    print(magician.title()+\", 那是美妙的戏法\")\n",
    "print(\"我期待你们的下一次表演,\"+ magician.title()+\"\\n\")\n"
   ],
   "outputs": [],
   "execution_count": null
  },
  {
   "cell_type": "markdown",
   "id": "e98cf84a-7c51-4108-abc5-ee814d631f9b",
   "metadata": {},
   "source": [
    "## 4.2.3 不必要的缩进"
   ]
  },
  {
   "cell_type": "code",
   "id": "489d0c27-1c4f-47ae-8fe2-40355df5c02f",
   "metadata": {},
   "source": [
    "message = \"Hello Python world!\"\n",
    "    print(message)"
   ],
   "outputs": [],
   "execution_count": null
  },
  {
   "cell_type": "markdown",
   "id": "2afb3d9c-941b-4f5c-b994-96d03613c922",
   "metadata": {},
   "source": [
    "## 4.2.4 循环后不必要的缩进"
   ]
  },
  {
   "cell_type": "code",
   "id": "ed4c567a-3bc8-4312-a50e-7c97aecaeae3",
   "metadata": {},
   "source": [
    "magicians = ['alice','david','carolina']\n",
    "for magician in magicians:\n",
    "    print(magician.title()+\", 那是美妙的戏法\")\n",
    "    print(\"我期待你们的下一次表演,\"+ magician.title()+\"\\n\")\n",
    "    print(\"感谢，那真是一场精彩的表演\")"
   ],
   "outputs": [],
   "execution_count": null
  },
  {
   "cell_type": "markdown",
   "id": "2883a20c-5398-434a-8cf5-f86cb5ae13b7",
   "metadata": {},
   "source": [
    "## 4.2.5 遗漏了冒号\n",
    "* for语句末尾的冒号告诉Python，下一行是循环的第一行"
   ]
  },
  {
   "cell_type": "code",
   "id": "3ac2d734-b3e6-44c2-a59f-29399a0dd011",
   "metadata": {},
   "source": [
    "magicians = ['alice','david','carolina']\n",
    "for magician in magicians\n",
    "    print(magician)"
   ],
   "outputs": [],
   "execution_count": null
  },
  {
   "cell_type": "markdown",
   "id": "39ab4b57-f64d-45a3-b132-504f13937866",
   "metadata": {},
   "source": [
    "## 动手试一试"
   ]
  },
  {
   "cell_type": "markdown",
   "id": "8d3d27c9-912f-4b21-a2ef-1ec34594f04b",
   "metadata": {},
   "source": [
    "#### 4.1 水果"
   ]
  },
  {
   "cell_type": "code",
   "id": "ee1eeb54-112a-4611-a4d2-1d4cb8eb442e",
   "metadata": {},
   "source": [
    "fruits = ['苹果','香蕉','龙眼']\n",
    "for fruit in fruits:\n",
    "    print('我喜欢的水果是' + fruit.title())\n",
    "print(\"我喜欢吃水果\")"
   ],
   "outputs": [],
   "execution_count": null
  }
 ],
 "metadata": {
  "kernelspec": {
   "display_name": "Python 3 (ipykernel)",
   "language": "python",
   "name": "python3"
  },
  "language_info": {
   "codemirror_mode": {
    "name": "ipython",
    "version": 3
   },
   "file_extension": ".py",
   "mimetype": "text/x-python",
   "name": "python",
   "nbconvert_exporter": "python",
   "pygments_lexer": "ipython3",
   "version": "3.13.2"
  }
 },
 "nbformat": 4,
 "nbformat_minor": 5
}
