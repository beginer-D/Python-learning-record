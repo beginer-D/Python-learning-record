{
 "cells": [
  {
   "cell_type": "markdown",
   "id": "f50c96ec-3814-4a8f-948a-963806a07c69",
   "metadata": {
    "ExecuteTime": {
     "end_time": "2025-02-14T12:36:05.244891Z",
     "start_time": "2025-02-14T12:36:05.242470Z"
    }
   },
   "source": [
    "## 切片\n",
    "指定要使用第一个元素的索引和最后一个元素的索引+1，与函数range()一样，不包含最后一个索引的元素。\n",
    "如下例所示"
   ]
  },
  {
   "cell_type": "code",
   "id": "cf3c2c98551172dd",
   "metadata": {
    "ExecuteTime": {
     "end_time": "2025-02-14T13:57:34.403066Z",
     "start_time": "2025-02-14T13:57:34.394894Z"
    }
   },
   "source": [
    "players = ['charles','michael','florence','eli']\n",
    "print(players[0:3])"
   ],
   "outputs": [
    {
     "name": "stdout",
     "output_type": "stream",
     "text": [
      "['charles', 'michael', 'florence']\n"
     ]
    }
   ],
   "execution_count": 1
  },
  {
   "cell_type": "markdown",
   "id": "5a2eed8e-5837-4447-9ec8-2cd2003a1dbf",
   "metadata": {},
   "source": [
    "可以生成列表的子集，如果要切片第2~4个元素，可以将起始索引指定为1，终止索引指定为4."
   ]
  },
  {
   "cell_type": "code",
   "id": "ded81695-a79a-4efb-a222-6933ea443e1e",
   "metadata": {
    "ExecuteTime": {
     "end_time": "2025-02-14T13:57:34.414333Z",
     "start_time": "2025-02-14T13:57:34.410683Z"
    }
   },
   "source": [
    "players = ['charles','michael','florence','eli']\n",
    "print(players[1:4])"
   ],
   "outputs": [
    {
     "name": "stdout",
     "output_type": "stream",
     "text": [
      "['michael', 'florence', 'eli']\n"
     ]
    }
   ],
   "execution_count": 2
  },
  {
   "cell_type": "markdown",
   "id": "3678ce4b-5a7c-4e5b-b5be-c8701298d130",
   "metadata": {},
   "source": [
    "如果没有指定第一个索引，那么Python将自动从列表开头开始"
   ]
  },
  {
   "cell_type": "code",
   "id": "6ef47a34-280c-49b9-879c-c39466cb5319",
   "metadata": {
    "ExecuteTime": {
     "end_time": "2025-02-14T13:57:34.565453Z",
     "start_time": "2025-02-14T13:57:34.561094Z"
    }
   },
   "source": [
    "players = ['charles','michael','florence','eli']\n",
    "print(players[:4])"
   ],
   "outputs": [
    {
     "name": "stdout",
     "output_type": "stream",
     "text": [
      "['charles', 'michael', 'florence', 'eli']\n"
     ]
    }
   ],
   "execution_count": 3
  },
  {
   "cell_type": "markdown",
   "id": "74cf9086-da82-4953-bd9f-e94fd386041f",
   "metadata": {},
   "source": [
    "要让切片终止于列表末尾，也可以使用类似语法。\n",
    "例如:"
   ]
  },
  {
   "cell_type": "code",
   "id": "99bde9ed-79c0-4c81-9f60-3ca2d032a30c",
   "metadata": {
    "ExecuteTime": {
     "end_time": "2025-02-14T13:57:34.651663Z",
     "start_time": "2025-02-14T13:57:34.647228Z"
    }
   },
   "source": [
    "players = ['charles','michael','florence','eli']\n",
    "print(players[2:])"
   ],
   "outputs": [
    {
     "name": "stdout",
     "output_type": "stream",
     "text": [
      "['florence', 'eli']\n"
     ]
    }
   ],
   "execution_count": 4
  },
  {
   "cell_type": "markdown",
   "id": "e2a81795-2170-4d82-aa3a-96d005d6a07b",
   "metadata": {},
   "source": [
    "负索引可以让我们输出从特定位置到列表末尾的所有元素。"
   ]
  },
  {
   "cell_type": "code",
   "id": "c3531058-4200-47fd-8355-b30adc016519",
   "metadata": {
    "ExecuteTime": {
     "end_time": "2025-02-14T13:57:34.755304Z",
     "start_time": "2025-02-14T13:57:34.751427Z"
    }
   },
   "source": [
    "players = ['charles','michael','florence','eli']\n",
    "print(players[-3:])"
   ],
   "outputs": [
    {
     "name": "stdout",
     "output_type": "stream",
     "text": [
      "['michael', 'florence', 'eli']\n"
     ]
    }
   ],
   "execution_count": 5
  },
  {
   "cell_type": "markdown",
   "id": "0c9d8d76-0adc-493b-8e4c-14916b041eba",
   "metadata": {},
   "source": [
    "遍历切片，如果要遍历列表的部分元素，可在for循环中使用切片。"
   ]
  },
  {
   "cell_type": "code",
   "id": "a728293e-198d-46d2-86c0-fe9899f3e54b",
   "metadata": {
    "ExecuteTime": {
     "end_time": "2025-02-14T13:57:34.785765Z",
     "start_time": "2025-02-14T13:57:34.781667Z"
    }
   },
   "source": [
    "players = ['charles','martina','florence','eli']\n",
    "print('他们是前三名队友:')\n",
    "for player in players[:3]:\n",
    "    print(player.title())"
   ],
   "outputs": [
    {
     "name": "stdout",
     "output_type": "stream",
     "text": [
      "他们是前三名队友:\n",
      "Charles\n",
      "Martina\n",
      "Florence\n"
     ]
    }
   ],
   "execution_count": 6
  },
  {
   "cell_type": "markdown",
   "id": "b433d10c-d871-4377-a168-4c4c3f1c936e",
   "metadata": {},
   "source": [
    "## 复制列表\n",
    "利用切片将列表复制再赋值给另一个变量"
   ]
  },
  {
   "cell_type": "code",
   "id": "b90004cf-620c-4595-85fb-c395639aa5e3",
   "metadata": {
    "ExecuteTime": {
     "end_time": "2025-02-14T13:57:34.829553Z",
     "start_time": "2025-02-14T13:57:34.824679Z"
    }
   },
   "source": [
    "my_foods = ['pizza','falafel','carrot','cake']\n",
    "friend_foods = my_foods[:]\n",
    "\n",
    "print(my_foods)\n",
    "\n",
    "print(my_foods)"
   ],
   "outputs": [
    {
     "name": "stdout",
     "output_type": "stream",
     "text": [
      "['pizza', 'falafel', 'carrot', 'cake']\n",
      "['pizza', 'falafel', 'carrot', 'cake']\n"
     ]
    }
   ],
   "execution_count": 7
  },
  {
   "cell_type": "markdown",
   "id": "3ece16d3-4af0-4693-9cd4-f6b3170f53bd",
   "metadata": {},
   "source": [
    "为了核实我们确实有两个列表，下面在每个列表中都添加一种食品。并核实每个列表都记录了相应人员喜欢的食品"
   ]
  },
  {
   "cell_type": "code",
   "id": "d9faad46-adf6-49f1-ad5d-ec70c785ac09",
   "metadata": {
    "ExecuteTime": {
     "end_time": "2025-02-14T13:57:34.863271Z",
     "start_time": "2025-02-14T13:57:34.858582Z"
    }
   },
   "source": [
    "my_foods = ['pizza','falafel','carrot','cake']\n",
    "friend_foods = my_foods[:]\n",
    "my_foods.append('cannoli')\n",
    "print(my_foods)\n",
    "\n",
    "print(friend_foods)"
   ],
   "outputs": [
    {
     "name": "stdout",
     "output_type": "stream",
     "text": [
      "['pizza', 'falafel', 'carrot', 'cake', 'cannoli']\n",
      "['pizza', 'falafel', 'carrot', 'cake']\n"
     ]
    }
   ],
   "execution_count": 8
  },
  {
   "cell_type": "markdown",
   "id": "7f0825d5-5de4-4e6c-8e3f-0f349039556f",
   "metadata": {},
   "source": [
    "倘如我们只是简单地将my_foods赋给friend_foods 就不能得到两个列表。因为这里将my_foods赋给friend_foods，实际上只是将Python让新变量friend_foods关联到包含在my_foods的列表。因此这两个变量都指向同一个列表。"
   ]
  },
  {
   "cell_type": "code",
   "id": "b0ae7b46-6587-448c-aa44-9e0bca057771",
   "metadata": {
    "ExecuteTime": {
     "end_time": "2025-02-14T13:57:34.893608Z",
     "start_time": "2025-02-14T13:57:34.888940Z"
    }
   },
   "source": [
    "my_foods = ['pizza','falafel','carrot','cake']\n",
    "friend_foods = my_foods\n",
    "my_foods.append('cannoli')\n",
    "friend_foods.append('ice cream')\n",
    "print(my_foods)\n",
    "print(friend_foods)"
   ],
   "outputs": [
    {
     "name": "stdout",
     "output_type": "stream",
     "text": [
      "['pizza', 'falafel', 'carrot', 'cake', 'cannoli', 'ice cream']\n",
      "['pizza', 'falafel', 'carrot', 'cake', 'cannoli', 'ice cream']\n"
     ]
    }
   ],
   "execution_count": 9
  },
  {
   "cell_type": "markdown",
   "id": "9636e61a-f3f0-4dc6-bedb-a49225f20e48",
   "metadata": {},
   "source": [
    "或者使用函数copy()，也可以达到创建副本的效果"
   ]
  },
  {
   "cell_type": "code",
   "id": "21cbd8cc-0d8d-40f7-869e-0f0724562625",
   "metadata": {
    "ExecuteTime": {
     "end_time": "2025-02-14T13:57:34.926338Z",
     "start_time": "2025-02-14T13:57:34.921217Z"
    }
   },
   "source": [
    "my_foods = ['pizza','falafel','carrot','cake']\n",
    "friend_foods = my_foods.copy()\n",
    "friend_foods.append('cannoli')\n",
    "print(my_foods)\n",
    "print(friend_foods)"
   ],
   "outputs": [
    {
     "name": "stdout",
     "output_type": "stream",
     "text": [
      "['pizza', 'falafel', 'carrot', 'cake']\n",
      "['pizza', 'falafel', 'carrot', 'cake', 'cannoli']\n"
     ]
    }
   ],
   "execution_count": 10
  },
  {
   "cell_type": "markdown",
   "id": "a9904f0c-145c-4a12-b824-4aea9a38abec",
   "metadata": {},
   "source": [
    "## 动手试一试"
   ]
  },
  {
   "cell_type": "markdown",
   "id": "48e56af5-a3d1-4b13-a91f-a0ad3bbe9ce8",
   "metadata": {},
   "source": [
    "切片"
   ]
  },
  {
   "cell_type": "code",
   "id": "8bb8858b-b974-4cec-82ab-f4e38767429c",
   "metadata": {
    "ExecuteTime": {
     "end_time": "2025-02-14T13:57:34.950789Z",
     "start_time": "2025-02-14T13:57:34.947178Z"
    }
   },
   "source": [
    "players = ['charles','martina','michael','florence','eli']\n",
    "print(\"列表的前三位是\")\n",
    "print(players[:3])"
   ],
   "outputs": [
    {
     "name": "stdout",
     "output_type": "stream",
     "text": [
      "列表的前三位是\n",
      "['charles', 'martina', 'michael']\n"
     ]
    }
   ],
   "execution_count": 11
  },
  {
   "cell_type": "code",
   "id": "c4f79c36-19c8-4501-b73b-42c024eb20ee",
   "metadata": {
    "ExecuteTime": {
     "end_time": "2025-02-14T13:57:34.977732Z",
     "start_time": "2025-02-14T13:57:34.973596Z"
    }
   },
   "source": [
    "print(\"列表的中三位是:\")\n",
    "print(players[1:4])"
   ],
   "outputs": [
    {
     "name": "stdout",
     "output_type": "stream",
     "text": [
      "列表的中三位是:\n",
      "['martina', 'michael', 'florence']\n"
     ]
    }
   ],
   "execution_count": 12
  },
  {
   "cell_type": "code",
   "id": "84591f0f-0947-485d-b50b-ec31de0baedd",
   "metadata": {
    "ExecuteTime": {
     "end_time": "2025-02-14T13:57:35.004962Z",
     "start_time": "2025-02-14T13:57:35.000328Z"
    }
   },
   "source": [
    "print(\"列表的后三位是:\")\n",
    "print(players[-3:])"
   ],
   "outputs": [
    {
     "name": "stdout",
     "output_type": "stream",
     "text": [
      "列表的后三位是:\n",
      "['michael', 'florence', 'eli']\n"
     ]
    }
   ],
   "execution_count": 13
  },
  {
   "cell_type": "markdown",
   "id": "ffe71f48-8c90-4726-ab55-4c281ce7e67d",
   "metadata": {},
   "source": [
    "你的食物和我的食物"
   ]
  },
  {
   "cell_type": "code",
   "id": "31d4fb19-bdb8-4b9c-850a-7e5984019b5a",
   "metadata": {
    "ExecuteTime": {
     "end_time": "2025-02-14T13:57:35.030421Z",
     "start_time": "2025-02-14T13:57:35.025025Z"
    }
   },
   "source": [
    "my_foods = ['pizza','falafel','carrot','cake']\n",
    "friend_foods = my_foods[:]\n",
    "my_foods.append('icecream')\n",
    "friend_foods.append('noodle')\n",
    "for food in my_foods:\n",
    "    print(f'我喜欢吃的食物是{food}')\n",
    "print(\"\\n\")\n",
    "for food in friend_foods:\n",
    "    print(f'我喜欢吃的食物是{food}')"
   ],
   "outputs": [
    {
     "name": "stdout",
     "output_type": "stream",
     "text": [
      "我喜欢吃的食物是pizza\n",
      "我喜欢吃的食物是falafel\n",
      "我喜欢吃的食物是carrot\n",
      "我喜欢吃的食物是cake\n",
      "我喜欢吃的食物是icecream\n",
      "\n",
      "\n",
      "我喜欢吃的食物是pizza\n",
      "我喜欢吃的食物是falafel\n",
      "我喜欢吃的食物是carrot\n",
      "我喜欢吃的食物是cake\n",
      "我喜欢吃的食物是noodle\n"
     ]
    }
   ],
   "execution_count": 14
  }
 ],
 "metadata": {
  "kernelspec": {
   "display_name": "Python 3 (ipykernel)",
   "language": "python",
   "name": "python3"
  },
  "language_info": {
   "codemirror_mode": {
    "name": "ipython",
    "version": 3
   },
   "file_extension": ".py",
   "mimetype": "text/x-python",
   "name": "python",
   "nbconvert_exporter": "python",
   "pygments_lexer": "ipython3",
   "version": "3.13.2"
  }
 },
 "nbformat": 4,
 "nbformat_minor": 5
}
