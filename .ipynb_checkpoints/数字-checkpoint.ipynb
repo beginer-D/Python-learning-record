{
 "cells": [
  {
   "cell_type": "markdown",
   "id": "1ee1f699-af72-4a48-9391-081faf9e65ed",
   "metadata": {},
   "source": [
    "### 整数"
   ]
  },
  {
   "cell_type": "code",
   "execution_count": 1,
   "id": "18eea187-758c-45d9-8bb3-0def3539aa31",
   "metadata": {},
   "outputs": [
    {
     "data": {
      "text/plain": [
       "5"
      ]
     },
     "execution_count": 1,
     "metadata": {},
     "output_type": "execute_result"
    }
   ],
   "source": [
    "2+3"
   ]
  },
  {
   "cell_type": "code",
   "execution_count": 2,
   "id": "d1708de9-57bf-4743-846f-58c70530233c",
   "metadata": {},
   "outputs": [
    {
     "data": {
      "text/plain": [
       "1"
      ]
     },
     "execution_count": 2,
     "metadata": {},
     "output_type": "execute_result"
    }
   ],
   "source": [
    "3-2"
   ]
  },
  {
   "cell_type": "code",
   "execution_count": 3,
   "id": "5b4b7d59-8c6a-4d0a-b3be-7133749c8564",
   "metadata": {},
   "outputs": [
    {
     "data": {
      "text/plain": [
       "16"
      ]
     },
     "execution_count": 3,
     "metadata": {},
     "output_type": "execute_result"
    }
   ],
   "source": [
    "2*8"
   ]
  },
  {
   "cell_type": "code",
   "execution_count": 4,
   "id": "93ec10ea-8045-4f37-a675-19c1daf95f94",
   "metadata": {},
   "outputs": [
    {
     "data": {
      "text/plain": [
       "1.5"
      ]
     },
     "execution_count": 4,
     "metadata": {},
     "output_type": "execute_result"
    }
   ],
   "source": [
    "3/2"
   ]
  },
  {
   "cell_type": "markdown",
   "id": "6e98c7ff-4776-4032-ae35-5aa69057b61c",
   "metadata": {},
   "source": [
    "Python使用两个乘号表示乘方运算"
   ]
  },
  {
   "cell_type": "code",
   "execution_count": 6,
   "id": "5256e86b-575f-49a6-85b7-236f40bac9d6",
   "metadata": {},
   "outputs": [
    {
     "data": {
      "text/plain": [
       "9"
      ]
     },
     "execution_count": 6,
     "metadata": {},
     "output_type": "execute_result"
    }
   ],
   "source": [
    "3**2"
   ]
  },
  {
   "cell_type": "code",
   "execution_count": 7,
   "id": "458f79f5-0a08-4283-acbe-feb2ff1cf2e6",
   "metadata": {},
   "outputs": [
    {
     "data": {
      "text/plain": [
       "9"
      ]
     },
     "execution_count": 7,
     "metadata": {},
     "output_type": "execute_result"
    }
   ],
   "source": [
    "3*3"
   ]
  },
  {
   "cell_type": "code",
   "execution_count": 9,
   "id": "255096b5-491b-4c4d-b771-2089f1940573",
   "metadata": {},
   "outputs": [
    {
     "data": {
      "text/plain": [
       "1000000"
      ]
     },
     "execution_count": 9,
     "metadata": {},
     "output_type": "execute_result"
    }
   ],
   "source": [
    "10**6"
   ]
  },
  {
   "cell_type": "code",
   "execution_count": 10,
   "id": "f6cb152d-9512-4695-9d91-d5483805cf57",
   "metadata": {},
   "outputs": [
    {
     "data": {
      "text/plain": [
       "14"
      ]
     },
     "execution_count": 10,
     "metadata": {},
     "output_type": "execute_result"
    }
   ],
   "source": [
    "2+ 3*4"
   ]
  },
  {
   "cell_type": "code",
   "execution_count": 11,
   "id": "31094208-c61f-4e9a-b307-5c3a8f6626d3",
   "metadata": {},
   "outputs": [
    {
     "data": {
      "text/plain": [
       "20"
      ]
     },
     "execution_count": 11,
     "metadata": {},
     "output_type": "execute_result"
    }
   ],
   "source": [
    "(2+3)*4"
   ]
  },
  {
   "cell_type": "markdown",
   "id": "36edba0d-c3bf-47e9-8fcc-3a9295cd54d5",
   "metadata": {},
   "source": [
    "### 浮点数"
   ]
  },
  {
   "cell_type": "markdown",
   "id": "29709cff-7ea4-4a3a-a730-43d22211b63b",
   "metadata": {},
   "source": [
    "有时候浮点数运算结果的小数位数是不确定的"
   ]
  },
  {
   "cell_type": "code",
   "execution_count": 14,
   "id": "cca6bf44-f75f-4536-a207-c129875eeb55",
   "metadata": {},
   "outputs": [
    {
     "data": {
      "text/plain": [
       "0.30000000000000004"
      ]
     },
     "execution_count": 14,
     "metadata": {},
     "output_type": "execute_result"
    }
   ],
   "source": [
    "0.2 + 0.1"
   ]
  },
  {
   "cell_type": "code",
   "execution_count": 15,
   "id": "30fe3ba5-d645-47f1-968e-3105830422fe",
   "metadata": {},
   "outputs": [
    {
     "data": {
      "text/plain": [
       "0.30000000000000004"
      ]
     },
     "execution_count": 15,
     "metadata": {},
     "output_type": "execute_result"
    }
   ],
   "source": [
    "3*0.1"
   ]
  },
  {
   "cell_type": "markdown",
   "id": "ae26e255-b7ab-4fa2-9b42-93bbf18123a6",
   "metadata": {},
   "source": [
    "使用函数str()避免类型错误,错误之处在于python并不知道age是属于int 还是字符，所以要使用str()转换"
   ]
  },
  {
   "cell_type": "code",
   "execution_count": 17,
   "id": "31748f4e-bac8-4f38-9dd7-7cd117f709eb",
   "metadata": {},
   "outputs": [
    {
     "ename": "TypeError",
     "evalue": "can only concatenate str (not \"int\") to str",
     "output_type": "error",
     "traceback": [
      "\u001b[1;31m---------------------------------------------------------------------------\u001b[0m",
      "\u001b[1;31mTypeError\u001b[0m                                 Traceback (most recent call last)",
      "Cell \u001b[1;32mIn[17], line 2\u001b[0m\n\u001b[0;32m      1\u001b[0m age \u001b[38;5;241m=\u001b[39m \u001b[38;5;241m23\u001b[39m\n\u001b[1;32m----> 2\u001b[0m message \u001b[38;5;241m=\u001b[39m \u001b[38;5;124;43m\"\u001b[39;49m\u001b[38;5;124;43mHapppy \u001b[39;49m\u001b[38;5;124;43m\"\u001b[39;49m\u001b[43m \u001b[49m\u001b[38;5;241;43m+\u001b[39;49m\u001b[43m \u001b[49m\u001b[43mage\u001b[49m \u001b[38;5;241m+\u001b[39m \u001b[38;5;124m\"\u001b[39m\u001b[38;5;124mrd Birthday!\u001b[39m\u001b[38;5;124m\"\u001b[39m\n\u001b[0;32m      3\u001b[0m \u001b[38;5;28mprint\u001b[39m(message)\n",
      "\u001b[1;31mTypeError\u001b[0m: can only concatenate str (not \"int\") to str"
     ]
    }
   ],
   "source": [
    "age = 23\n",
    "message = \"Happpy \" + age + \"rd Birthday!\"\n",
    "print(message)"
   ]
  },
  {
   "cell_type": "code",
   "execution_count": 18,
   "id": "6c5cc813-7e82-49ca-8893-94d6540f0b55",
   "metadata": {},
   "outputs": [
    {
     "name": "stdout",
     "output_type": "stream",
     "text": [
      "Happpy 23rd Birthday!\n"
     ]
    }
   ],
   "source": [
    "age = 23\n",
    "message = \"Happpy \" + str(age) + \"rd Birthday!\"\n",
    "print(message)"
   ]
  },
  {
   "cell_type": "markdown",
   "id": "8794579c-309f-484b-948d-e35e6524fdec",
   "metadata": {},
   "source": [
    "## 动手试一试"
   ]
  },
  {
   "cell_type": "markdown",
   "id": "877a506a-ae14-43de-8a1f-73ff294ddaca",
   "metadata": {},
   "source": [
    "#### 2-8"
   ]
  },
  {
   "cell_type": "code",
   "execution_count": 32,
   "id": "5a3884c9-1f82-40db-be5c-514d19567d15",
   "metadata": {},
   "outputs": [
    {
     "name": "stdout",
     "output_type": "stream",
     "text": [
      "8\n",
      "8\n",
      "8\n",
      "8.0\n"
     ]
    }
   ],
   "source": [
    "print(2+6)\n",
    "print(9-1)\n",
    "print(2*4)\n",
    "print(16/2)"
   ]
  },
  {
   "cell_type": "markdown",
   "id": "e07e3d83-553e-4965-91ec-b49761a6c207",
   "metadata": {},
   "source": [
    "#### 2-9"
   ]
  },
  {
   "cell_type": "code",
   "execution_count": 35,
   "id": "3d5b4313-41dd-4aac-ab7b-96481fda695d",
   "metadata": {},
   "outputs": [
    {
     "name": "stdout",
     "output_type": "stream",
     "text": [
      "my favorite number is 4\n"
     ]
    }
   ],
   "source": [
    "number = 4\n",
    "message = 'my favorite number is ' + str(number)\n",
    "print(message)"
   ]
  }
 ],
 "metadata": {
  "kernelspec": {
   "display_name": "Python 3 (ipykernel)",
   "language": "python",
   "name": "python3"
  },
  "language_info": {
   "codemirror_mode": {
    "name": "ipython",
    "version": 3
   },
   "file_extension": ".py",
   "mimetype": "text/x-python",
   "name": "python",
   "nbconvert_exporter": "python",
   "pygments_lexer": "ipython3",
   "version": "3.13.2"
  }
 },
 "nbformat": 4,
 "nbformat_minor": 5
}
