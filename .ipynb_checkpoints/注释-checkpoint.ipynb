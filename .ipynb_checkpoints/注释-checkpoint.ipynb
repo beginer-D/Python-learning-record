{
 "cells": [
  {
   "cell_type": "markdown",
   "id": "94b82da5-6acc-4124-8fb5-5b6a4f420642",
   "metadata": {},
   "source": [
    "在python中，使用＃标识注释"
   ]
  },
  {
   "cell_type": "code",
   "execution_count": 1,
   "id": "7baa2dd5-8200-404f-ae4a-7097a00d751b",
   "metadata": {},
   "outputs": [
    {
     "name": "stdout",
     "output_type": "stream",
     "text": [
      "Hello Python people!\n"
     ]
    }
   ],
   "source": [
    "# 向大家问好\n",
    "print(\"Hello Python people!\")"
   ]
  },
  {
   "cell_type": "markdown",
   "id": "eb244ff1-74ab-44a0-8fa8-8c1af1799a0d",
   "metadata": {},
   "source": [
    "### 动手试一试"
   ]
  },
  {
   "cell_type": "code",
   "execution_count": 2,
   "id": "dbb5b940-8387-4235-945f-6834deb0bc56",
   "metadata": {},
   "outputs": [
    {
     "name": "stdout",
     "output_type": "stream",
     "text": [
      "我要将精力转换成奋斗的热情，学习！！！！！\n"
     ]
    }
   ],
   "source": [
    "# 现在是2/10 16:53\n",
    "print('我要将精力转换成奋斗的热情，学习！！！！！')"
   ]
  }
 ],
 "metadata": {
  "kernelspec": {
   "display_name": "Python 3 (ipykernel)",
   "language": "python",
   "name": "python3"
  },
  "language_info": {
   "codemirror_mode": {
    "name": "ipython",
    "version": 3
   },
   "file_extension": ".py",
   "mimetype": "text/x-python",
   "name": "python",
   "nbconvert_exporter": "python",
   "pygments_lexer": "ipython3",
   "version": "3.13.2"
  }
 },
 "nbformat": 4,
 "nbformat_minor": 5
}
